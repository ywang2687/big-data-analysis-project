{
 "cells": [
  {
   "cell_type": "code",
   "execution_count": 1,
   "id": "61fb8dca-0f5d-4ed7-8bf3-1d5eb627d2f6",
   "metadata": {},
   "outputs": [
    {
     "name": "stdout",
     "output_type": "stream",
     "text": [
      "Datacenter: datacenter1\n",
      "=======================\n",
      "Status=Up/Down\n",
      "|/ State=Normal/Leaving/Joining/Moving\n",
      "--  Address       Load        Tokens  Owns (effective)  Host ID                               Rack \n",
      "UN  192.168.48.4  177.65 KiB  16      100.0%            4e75dd2c-d3f6-4178-9931-d53ebb6cee28  rack1\n",
      "UN  192.168.48.2  182.74 KiB  16      100.0%            959d43b1-e2ee-476e-80d0-5a55865bd4b2  rack1\n",
      "UN  192.168.48.3  178.65 KiB  16      100.0%            2f31e030-4347-464c-8997-af77d7838e16  rack1\n",
      "\n"
     ]
    }
   ],
   "source": [
    "!nodetool status"
   ]
  },
  {
   "cell_type": "code",
   "execution_count": 2,
   "id": "f00e7191-547f-4e46-b080-0135d36f284e",
   "metadata": {},
   "outputs": [
    {
     "name": "stderr",
     "output_type": "stream",
     "text": [
      "WARNING:cassandra.cluster:Host 192.168.48.3:9042 has been marked down\n",
      "WARNING:cassandra.cluster:[control connection] Error connecting to 192.168.48.3:9042:\n",
      "Traceback (most recent call last):\n",
      "  File \"cassandra/cluster.py\", line 3541, in cassandra.cluster.ControlConnection._reconnect_internal\n",
      "  File \"cassandra/cluster.py\", line 3563, in cassandra.cluster.ControlConnection._try_connect\n",
      "  File \"cassandra/cluster.py\", line 1630, in cassandra.cluster.Cluster.connection_factory\n",
      "  File \"cassandra/connection.py\", line 850, in cassandra.connection.Connection.factory\n",
      "  File \"/usr/local/lib/python3.10/dist-packages/cassandra/io/asyncorereactor.py\", line 347, in __init__\n",
      "    self._connect_socket()\n",
      "  File \"cassandra/connection.py\", line 917, in cassandra.connection.Connection._connect_socket\n",
      "OSError: [Errno None] Tried connecting to [('192.168.48.3', 9042)]. Last error: timed out\n",
      "WARNING:cassandra.pool:Error attempting to reconnect to 192.168.48.3:9042, scheduling retry in 1.9 seconds: [Errno None] Tried connecting to [('192.168.48.3', 9042)]. Last error: timed out\n",
      "WARNING:cassandra.pool:Error attempting to reconnect to 192.168.48.3:9042, scheduling retry in 3.76 seconds: [Errno None] Tried connecting to [('192.168.48.3', 9042)]. Last error: timed out\n",
      "WARNING:cassandra.pool:Error attempting to reconnect to 192.168.48.3:9042, scheduling retry in 9.12 seconds: [Errno None] Tried connecting to [('192.168.48.3', 9042)]. Last error: timed out\n",
      "WARNING:cassandra.pool:Error attempting to reconnect to 192.168.48.3:9042, scheduling retry in 14.56 seconds: [Errno None] Tried connecting to [('192.168.48.3', 9042)]. Last error: timed out\n"
     ]
    }
   ],
   "source": [
    "from cassandra.cluster import Cluster\n",
    "cluster = Cluster(['p6-db-1', 'p6-db-2', 'p6-db-3'])\n",
    "cass = cluster.connect()"
   ]
  },
  {
   "cell_type": "code",
   "execution_count": 3,
   "id": "467a93a9-d301-48ad-9473-6252a7bb9f54",
   "metadata": {},
   "outputs": [
    {
     "data": {
      "text/plain": [
       "<cassandra.cluster.ResultSet at 0x7e55b6e5eb30>"
      ]
     },
     "execution_count": 3,
     "metadata": {},
     "output_type": "execute_result"
    }
   ],
   "source": [
    "cass.execute(\"DROP KEYSPACE IF EXISTS weather\")\n",
    "\n",
    "cass.execute(\"\"\"\n",
    "CREATE KEYSPACE IF NOT EXISTS weather\n",
    "WITH replication = {'class': 'SimpleStrategy', 'replication_factor': 3}\n",
    "\"\"\")\n",
    "\n",
    "cass.execute(\"\"\"\n",
    "CREATE TYPE weather.station_record (\n",
    "    tmin int,\n",
    "    tmax int\n",
    ")\n",
    "\"\"\")\n",
    "\n",
    "cass.execute(\"\"\"\n",
    "CREATE TABLE IF NOT EXISTS weather.stations (\n",
    "    id TEXT,\n",
    "    name text STATIC,\n",
    "    date DATE,\n",
    "    record weather.station_record,\n",
    "    PRIMARY KEY (id, date)\n",
    ")\n",
    "\"\"\")"
   ]
  },
  {
   "cell_type": "code",
   "execution_count": 4,
   "id": "49e04526-7580-4b69-962f-d14816b37264",
   "metadata": {},
   "outputs": [
    {
     "data": {
      "text/plain": [
       "\"CREATE TABLE weather.stations (\\n    id text,\\n    date date,\\n    name text static,\\n    record station_record,\\n    PRIMARY KEY (id, date)\\n) WITH CLUSTERING ORDER BY (date ASC)\\n    AND additional_write_policy = '99p'\\n    AND bloom_filter_fp_chance = 0.01\\n    AND caching = {'keys': 'ALL', 'rows_per_partition': 'NONE'}\\n    AND cdc = false\\n    AND comment = ''\\n    AND compaction = {'class': 'org.apache.cassandra.db.compaction.SizeTieredCompactionStrategy', 'max_threshold': '32', 'min_threshold': '4'}\\n    AND compression = {'chunk_length_in_kb': '16', 'class': 'org.apache.cassandra.io.compress.LZ4Compressor'}\\n    AND memtable = 'default'\\n    AND crc_check_chance = 1.0\\n    AND default_time_to_live = 0\\n    AND extensions = {}\\n    AND gc_grace_seconds = 864000\\n    AND max_index_interval = 2048\\n    AND memtable_flush_period_in_ms = 0\\n    AND min_index_interval = 128\\n    AND read_repair = 'BLOCKING'\\n    AND speculative_retry = '99p';\""
      ]
     },
     "execution_count": 4,
     "metadata": {},
     "output_type": "execute_result"
    }
   ],
   "source": [
    "#q1\n",
    "cass.execute(\"describe table weather.stations\").one().create_statement"
   ]
  },
  {
   "cell_type": "code",
   "execution_count": 5,
   "id": "2014e2fa-f7a5-4b1a-90bd-b70459b608f2",
   "metadata": {},
   "outputs": [
    {
     "name": "stdout",
     "output_type": "stream",
     "text": [
      ":: loading settings :: url = jar:file:/usr/local/lib/python3.10/dist-packages/pyspark/jars/ivy-2.5.1.jar!/org/apache/ivy/core/settings/ivysettings.xml\n"
     ]
    },
    {
     "name": "stderr",
     "output_type": "stream",
     "text": [
      "Ivy Default Cache set to: /root/.ivy2/cache\n",
      "The jars for the packages stored in: /root/.ivy2/jars\n",
      "com.datastax.spark#spark-cassandra-connector_2.12 added as a dependency\n",
      ":: resolving dependencies :: org.apache.spark#spark-submit-parent-615d10dc-31bb-477f-8d03-c3807a7d4a2a;1.0\n",
      "\tconfs: [default]\n",
      "\tfound com.datastax.spark#spark-cassandra-connector_2.12;3.4.0 in central\n",
      "\tfound com.datastax.spark#spark-cassandra-connector-driver_2.12;3.4.0 in central\n",
      "\tfound com.datastax.oss#java-driver-core-shaded;4.13.0 in central\n",
      "\tfound com.datastax.oss#native-protocol;1.5.0 in central\n",
      "\tfound com.datastax.oss#java-driver-shaded-guava;25.1-jre-graal-sub-1 in central\n",
      "\tfound com.typesafe#config;1.4.1 in central\n",
      "\tfound org.slf4j#slf4j-api;1.7.26 in central\n",
      "\tfound io.dropwizard.metrics#metrics-core;4.1.18 in central\n",
      "\tfound org.hdrhistogram#HdrHistogram;2.1.12 in central\n",
      "\tfound org.reactivestreams#reactive-streams;1.0.3 in central\n",
      "\tfound com.github.stephenc.jcip#jcip-annotations;1.0-1 in central\n",
      "\tfound com.github.spotbugs#spotbugs-annotations;3.1.12 in central\n",
      "\tfound com.google.code.findbugs#jsr305;3.0.2 in central\n",
      "\tfound com.datastax.oss#java-driver-mapper-runtime;4.13.0 in central\n",
      "\tfound com.datastax.oss#java-driver-query-builder;4.13.0 in central\n",
      "\tfound org.apache.commons#commons-lang3;3.10 in central\n",
      "\tfound com.thoughtworks.paranamer#paranamer;2.8 in central\n",
      "\tfound org.scala-lang#scala-reflect;2.12.11 in central\n",
      ":: resolution report :: resolve 1194ms :: artifacts dl 65ms\n",
      "\t:: modules in use:\n",
      "\tcom.datastax.oss#java-driver-core-shaded;4.13.0 from central in [default]\n",
      "\tcom.datastax.oss#java-driver-mapper-runtime;4.13.0 from central in [default]\n",
      "\tcom.datastax.oss#java-driver-query-builder;4.13.0 from central in [default]\n",
      "\tcom.datastax.oss#java-driver-shaded-guava;25.1-jre-graal-sub-1 from central in [default]\n",
      "\tcom.datastax.oss#native-protocol;1.5.0 from central in [default]\n",
      "\tcom.datastax.spark#spark-cassandra-connector-driver_2.12;3.4.0 from central in [default]\n",
      "\tcom.datastax.spark#spark-cassandra-connector_2.12;3.4.0 from central in [default]\n",
      "\tcom.github.spotbugs#spotbugs-annotations;3.1.12 from central in [default]\n",
      "\tcom.github.stephenc.jcip#jcip-annotations;1.0-1 from central in [default]\n",
      "\tcom.google.code.findbugs#jsr305;3.0.2 from central in [default]\n",
      "\tcom.thoughtworks.paranamer#paranamer;2.8 from central in [default]\n",
      "\tcom.typesafe#config;1.4.1 from central in [default]\n",
      "\tio.dropwizard.metrics#metrics-core;4.1.18 from central in [default]\n",
      "\torg.apache.commons#commons-lang3;3.10 from central in [default]\n",
      "\torg.hdrhistogram#HdrHistogram;2.1.12 from central in [default]\n",
      "\torg.reactivestreams#reactive-streams;1.0.3 from central in [default]\n",
      "\torg.scala-lang#scala-reflect;2.12.11 from central in [default]\n",
      "\torg.slf4j#slf4j-api;1.7.26 from central in [default]\n",
      "\t---------------------------------------------------------------------\n",
      "\t|                  |            modules            ||   artifacts   |\n",
      "\t|       conf       | number| search|dwnlded|evicted|| number|dwnlded|\n",
      "\t---------------------------------------------------------------------\n",
      "\t|      default     |   18  |   0   |   0   |   0   ||   18  |   0   |\n",
      "\t---------------------------------------------------------------------\n",
      ":: retrieving :: org.apache.spark#spark-submit-parent-615d10dc-31bb-477f-8d03-c3807a7d4a2a\n",
      "\tconfs: [default]\n",
      "\t0 artifacts copied, 18 already retrieved (0kB/23ms)\n",
      "24/04/16 01:22:23 WARN NativeCodeLoader: Unable to load native-hadoop library for your platform... using builtin-java classes where applicable\n",
      "Setting default log level to \"WARN\".\n",
      "To adjust logging level use sc.setLogLevel(newLevel). For SparkR, use setLogLevel(newLevel).\n"
     ]
    }
   ],
   "source": [
    "from pyspark.sql import SparkSession\n",
    "spark = (SparkSession.builder\n",
    "         .appName(\"p6\")\n",
    "         .config('spark.jars.packages', 'com.datastax.spark:spark-cassandra-connector_2.12:3.4.0')\n",
    "         .config(\"spark.sql.extensions\", \"com.datastax.spark.connector.CassandraSparkExtensions\")\n",
    "         .getOrCreate())\n"
   ]
  },
  {
   "cell_type": "code",
   "execution_count": 6,
   "id": "74addd82-634a-49ba-af12-91da24d692f7",
   "metadata": {},
   "outputs": [
    {
     "name": "stderr",
     "output_type": "stream",
     "text": [
      "                                                                                \r"
     ]
    }
   ],
   "source": [
    "\n",
    "from pyspark.sql.functions import expr\n",
    "stations_df = spark.read.text(\"ghcnd-stations.txt\")\n",
    "\n",
    "wisconsin_stations_df = stations_df.select(\n",
    "    expr(\"SUBSTRING(value, 1, 11)\").alias(\"id\"),\n",
    "    expr(\"SUBSTRING(value, 39, 2)\").alias(\"state\"),\n",
    "    expr(\"SUBSTRING(value, 42, 30)\").alias(\"name\")\n",
    ").filter(expr(\"state = 'WI'\"))\n",
    "\n",
    "wisconsin_stations = wisconsin_stations_df.collect()\n",
    "for station in wisconsin_stations:\n",
    "    cass.execute(\n",
    "        \"\"\"\n",
    "        INSERT INTO weather.stations (id, name)\n",
    "        VALUES (%s, %s)\n",
    "        \"\"\",\n",
    "        (station.id, station.name)\n",
    "    )"
   ]
  },
  {
   "cell_type": "code",
   "execution_count": 7,
   "id": "2f8b57c3-2ec5-4386-a4f2-c481e93a395c",
   "metadata": {},
   "outputs": [
    {
     "data": {
      "text/html": [
       "<div>\n",
       "<style scoped>\n",
       "    .dataframe tbody tr th:only-of-type {\n",
       "        vertical-align: middle;\n",
       "    }\n",
       "\n",
       "    .dataframe tbody tr th {\n",
       "        vertical-align: top;\n",
       "    }\n",
       "\n",
       "    .dataframe thead th {\n",
       "        text-align: right;\n",
       "    }\n",
       "</style>\n",
       "<table border=\"1\" class=\"dataframe\">\n",
       "  <thead>\n",
       "    <tr style=\"text-align: right;\">\n",
       "      <th></th>\n",
       "      <th>name</th>\n",
       "    </tr>\n",
       "  </thead>\n",
       "  <tbody>\n",
       "    <tr>\n",
       "      <th>0</th>\n",
       "      <td>AMBERG 1.3 SW</td>\n",
       "    </tr>\n",
       "  </tbody>\n",
       "</table>\n",
       "</div>"
      ],
      "text/plain": [
       "                             name\n",
       "0  AMBERG 1.3 SW                 "
      ]
     },
     "execution_count": 7,
     "metadata": {},
     "output_type": "execute_result"
    }
   ],
   "source": [
    "#q2\n",
    "import pandas as pd\n",
    "pd.DataFrame(cass.execute(\"\"\"\n",
    "    SELECT name FROM weather.stations WHERE id = 'US1WIMR0003'\n",
    "\"\"\"))"
   ]
  },
  {
   "cell_type": "code",
   "execution_count": 8,
   "id": "ba163367-c6d4-470c-a1ad-476ac2762137",
   "metadata": {},
   "outputs": [
    {
     "data": {
      "text/html": [
       "<div>\n",
       "<style scoped>\n",
       "    .dataframe tbody tr th:only-of-type {\n",
       "        vertical-align: middle;\n",
       "    }\n",
       "\n",
       "    .dataframe tbody tr th {\n",
       "        vertical-align: top;\n",
       "    }\n",
       "\n",
       "    .dataframe thead th {\n",
       "        text-align: right;\n",
       "    }\n",
       "</style>\n",
       "<table border=\"1\" class=\"dataframe\">\n",
       "  <thead>\n",
       "    <tr style=\"text-align: right;\">\n",
       "      <th></th>\n",
       "      <th>system_token_id</th>\n",
       "    </tr>\n",
       "  </thead>\n",
       "  <tbody>\n",
       "    <tr>\n",
       "      <th>0</th>\n",
       "      <td>-9014250178872933741</td>\n",
       "    </tr>\n",
       "  </tbody>\n",
       "</table>\n",
       "</div>"
      ],
      "text/plain": [
       "       system_token_id\n",
       "0 -9014250178872933741"
      ]
     },
     "execution_count": 8,
     "metadata": {},
     "output_type": "execute_result"
    }
   ],
   "source": [
    "#q3\n",
    "pd.DataFrame(cass.execute(\"\"\"\n",
    "    SELECT token(id) FROM weather.stations WHERE id = 'USC00470273'\n",
    "\"\"\"))"
   ]
  },
  {
   "cell_type": "code",
   "execution_count": 9,
   "id": "17298235-db72-49fc-ae6b-ffc281e81691",
   "metadata": {},
   "outputs": [
    {
     "data": {
      "text/plain": [
       "-8655705676496366297"
      ]
     },
     "execution_count": 9,
     "metadata": {},
     "output_type": "execute_result"
    }
   ],
   "source": [
    "#q4\n",
    "import subprocess\n",
    "row =  pd.DataFrame(cass.execute(\"\"\"\n",
    "    SELECT token(id) FROM weather.stations WHERE id = 'USC00470273'\n",
    "\"\"\")).system_token_id[0]\n",
    "station_token = int(row)\n",
    "\n",
    "output = subprocess.check_output(['nodetool', 'ring']).decode('utf-8')\n",
    "\n",
    "tokens = []\n",
    "for line in output.splitlines():\n",
    "    if 'Up' in line or 'Down' in line: \n",
    "        token = int(line.split()[-1]) \n",
    "        tokens.append(token)\n",
    "tokens.sort()\n",
    "\n",
    "next_token = None\n",
    "for token in tokens:\n",
    "    if token > station_token:\n",
    "        next_token = token\n",
    "        break\n",
    "\n",
    "next_token"
   ]
  },
  {
   "cell_type": "code",
   "execution_count": 10,
   "id": "9dd343af-a47b-42b0-bee2-761d46822deb",
   "metadata": {},
   "outputs": [
    {
     "name": "stdout",
     "output_type": "stream",
     "text": [
      "Archive:  records.zip\n",
      "  inflating: records.parquet/part-00000-574ab704-2431-4c8b-9d88-6c635a467b99-c000.snappy.parquet  \n",
      " extracting: records.parquet/._SUCCESS.crc  \n",
      "  inflating: records.parquet/part-00002-574ab704-2431-4c8b-9d88-6c635a467b99-c000.snappy.parquet  \n",
      "  inflating: records.parquet/part-00001-574ab704-2431-4c8b-9d88-6c635a467b99-c000.snappy.parquet  \n",
      "  inflating: records.parquet/part-00003-574ab704-2431-4c8b-9d88-6c635a467b99-c000.snappy.parquet  \n",
      " extracting: records.parquet/.part-00003-574ab704-2431-4c8b-9d88-6c635a467b99-c000.snappy.parquet.crc  \n",
      " extracting: records.parquet/_SUCCESS  \n",
      " extracting: records.parquet/.part-00000-574ab704-2431-4c8b-9d88-6c635a467b99-c000.snappy.parquet.crc  \n",
      " extracting: records.parquet/.part-00001-574ab704-2431-4c8b-9d88-6c635a467b99-c000.snappy.parquet.crc  \n",
      " extracting: records.parquet/.part-00002-574ab704-2431-4c8b-9d88-6c635a467b99-c000.snappy.parquet.crc  \n"
     ]
    }
   ],
   "source": [
    "!unzip -o records.zip"
   ]
  },
  {
   "cell_type": "code",
   "execution_count": 11,
   "id": "e5473589-8ad4-4cf7-a20c-195498bf4af5",
   "metadata": {},
   "outputs": [
    {
     "name": "stderr",
     "output_type": "stream",
     "text": [
      "[Stage 4:>                                                          (0 + 1) / 1]\r"
     ]
    },
    {
     "name": "stdout",
     "output_type": "stream",
     "text": [
      "+-----------+----------+------+------+\n",
      "|    station|      date|  TMAX|  TMIN|\n",
      "+-----------+----------+------+------+\n",
      "|USW00014898|2022-01-07| -71.0|-166.0|\n",
      "|USW00014839|2022-09-24| 194.0| 117.0|\n",
      "|USW00014839|2022-05-23| 150.0|  83.0|\n",
      "|USW00014839|2022-10-19|  83.0|  11.0|\n",
      "|USW00014839|2022-05-29| 261.0| 139.0|\n",
      "|USR0000WDDG|2022-11-30| -39.0|-106.0|\n",
      "|USR0000WDDG|2022-01-19| -56.0|-178.0|\n",
      "|USW00014837|2022-02-22| -38.0| -88.0|\n",
      "|USR0000WDDG|2022-02-02|-106.0|-150.0|\n",
      "|USW00014839|2022-04-27|  39.0|   0.0|\n",
      "|USW00014839|2022-07-08| 222.0| 189.0|\n",
      "|USW00014839|2022-09-17| 294.0| 200.0|\n",
      "|USW00014837|2022-06-24| 322.0| 200.0|\n",
      "|USW00014898|2022-01-29| -60.0|-116.0|\n",
      "|USW00014839|2022-07-15| 233.0| 156.0|\n",
      "|USR0000WDDG|2022-02-24| -61.0|-128.0|\n",
      "|USR0000WDDG|2022-01-30| -33.0|-117.0|\n",
      "|USR0000WDDG|2022-04-14|  50.0| -17.0|\n",
      "|USW00014898|2022-07-28| 256.0| 156.0|\n",
      "|USW00014837|2022-09-06| 256.0| 117.0|\n",
      "+-----------+----------+------+------+\n",
      "only showing top 20 rows\n",
      "\n"
     ]
    },
    {
     "name": "stderr",
     "output_type": "stream",
     "text": [
      "                                                                                \r"
     ]
    }
   ],
   "source": [
    "from pyspark.sql.functions import col, to_date, first, date_format\n",
    "df = spark.read.parquet(\"records.parquet\")\n",
    "df_pivoted = df.groupBy(\"station\", \"date\").pivot(\"element\",[\"TMAX\",\"TMIN\"]).agg({\"value\": \"first\"})\n",
    "df_final = df_pivoted.withColumn(\"date\", date_format(to_date(col(\"date\"), \"yyyyMMdd\"), \"yyyy-MM-dd\"))\n",
    "df_final.show()"
   ]
  },
  {
   "cell_type": "code",
   "execution_count": 12,
   "id": "f2b72478-b345-438b-bc7d-6479c9b36ec5",
   "metadata": {},
   "outputs": [],
   "source": [
    "import grpc\n",
    "import station_pb2\n",
    "import station_pb2_grpc\n",
    "records = df_final.collect()\n",
    "channel = grpc.insecure_channel('localhost:5440')\n",
    "stub = station_pb2_grpc.StationStub(channel)\n",
    "for i in records:\n",
    "    request = station_pb2.RecordTempsRequest(\n",
    "        station=i.station,\n",
    "        date=str(i.date),\n",
    "        tmin=int(i.TMIN),\n",
    "        tmax=int(i.TMAX)\n",
    "    )\n",
    "    response = stub.RecordTemps(request)\n",
    "    "
   ]
  },
  {
   "cell_type": "code",
   "execution_count": 13,
   "id": "2fc5a2f4-d169-4506-9521-7efbfd61170b",
   "metadata": {},
   "outputs": [
    {
     "data": {
      "text/plain": [
       "356"
      ]
     },
     "execution_count": 13,
     "metadata": {},
     "output_type": "execute_result"
    }
   ],
   "source": [
    "#q5\n",
    "request = station_pb2.StationMaxRequest(station=\"USW00014837\")\n",
    "response = stub.StationMax(request)\n",
    "response.tmax\n"
   ]
  },
  {
   "cell_type": "code",
   "execution_count": 14,
   "id": "395f1d50-b391-410f-9ac8-d59c8c23e7ff",
   "metadata": {},
   "outputs": [
    {
     "data": {
      "text/plain": [
       "[Table(name='stations', catalog=None, namespace=[], description=None, tableType='TEMPORARY', isTemporary=True)]"
      ]
     },
     "execution_count": 14,
     "metadata": {},
     "output_type": "execute_result"
    }
   ],
   "source": [
    "#q6\n",
    "view = spark.read.format(\"org.apache.spark.sql.cassandra\") \\\n",
    "    .option(\"spark.cassandra.connection.host\", \"p6-db-1,p6-db-2,p6-db-3\") \\\n",
    "    .option(\"keyspace\", \"weather\") \\\n",
    "    .option(\"table\", \"stations\") \\\n",
    "    .load()\n",
    "view.createOrReplaceTempView(\"stations\")\n",
    "spark.catalog.listTables()\n"
   ]
  },
  {
   "cell_type": "code",
   "execution_count": 15,
   "id": "dfdd6221-9254-4959-b99e-afdb136bff50",
   "metadata": {},
   "outputs": [
    {
     "name": "stderr",
     "output_type": "stream",
     "text": [
      "                                                                                \r"
     ]
    },
    {
     "data": {
      "text/plain": [
       "{'USW00014898': 102.93698630136986,\n",
       " 'USW00014837': 105.62739726027397,\n",
       " 'USR0000WDDG': 102.06849315068493,\n",
       " 'USW00014839': 89.6986301369863}"
      ]
     },
     "execution_count": 15,
     "metadata": {},
     "output_type": "execute_result"
    }
   ],
   "source": [
    "#q7\n",
    "average_diff_df = spark.sql(\"\"\"\n",
    "SELECT id, AVG(record.TMAX - record.TMIN) as avg_diff\n",
    "FROM stations\n",
    "WHERE record.TMAX IS NOT NULL AND record.Tmin IS NOT NULL\n",
    "GROUP BY id\n",
    "\"\"\")\n",
    "\n",
    "average_diff_df.toPandas().set_index('id')['avg_diff'].to_dict()"
   ]
  },
  {
   "cell_type": "code",
   "execution_count": 16,
   "id": "ff617526-48d0-46b3-869e-56de09731079",
   "metadata": {},
   "outputs": [
    {
     "name": "stderr",
     "output_type": "stream",
     "text": [
      "24/04/16 01:25:37 WARN ChannelPool: [s0|p6-db-2/192.168.48.3:9042]  Error while opening new channel (ConnectionInitException: [s0|connecting...] Protocol initialization request, step 1 (STARTUP {CQL_VERSION=3.0.0, DRIVER_NAME=DataStax Java driver for Apache Cassandra(R), DRIVER_VERSION=4.13.0, CLIENT_ID=432a753b-a5fd-4d90-b6a7-2bd1c023c699, APPLICATION_NAME=Spark-Cassandra-Connector-local-1713230546687}): failed to send request (java.nio.channels.NotYetConnectedException))\n"
     ]
    },
    {
     "name": "stdout",
     "output_type": "stream",
     "text": [
      "Datacenter: datacenter1\n",
      "=======================\n",
      "Status=Up/Down\n",
      "|/ State=Normal/Leaving/Joining/Moving\n",
      "--  Address       Load        Tokens  Owns (effective)  Host ID                               Rack \n",
      "UN  192.168.48.4  255.12 KiB  16      100.0%            4e75dd2c-d3f6-4178-9931-d53ebb6cee28  rack1\n",
      "UN  192.168.48.2  260.57 KiB  16      100.0%            959d43b1-e2ee-476e-80d0-5a55865bd4b2  rack1\n",
      "UN  192.168.48.3  256.12 KiB  16      100.0%            2f31e030-4347-464c-8997-af77d7838e16  rack1\n",
      "\n"
     ]
    },
    {
     "name": "stderr",
     "output_type": "stream",
     "text": [
      "WARNING:cassandra.connection:Heartbeat failed for connection (138906605963056) to 192.168.48.3:9042\n"
     ]
    }
   ],
   "source": [
    "#q8\n",
    "!nodetool status"
   ]
  },
  {
   "cell_type": "code",
   "execution_count": 19,
   "id": "7f35a999-de76-4b8a-b7a7-9d6f130186ee",
   "metadata": {},
   "outputs": [
    {
     "data": {
      "text/plain": [
       "'need 3 replicas, but only have 2'"
      ]
     },
     "execution_count": 19,
     "metadata": {},
     "output_type": "execute_result"
    },
    {
     "name": "stderr",
     "output_type": "stream",
     "text": [
      "24/04/16 01:26:05 WARN ChannelPool: [s0|p6-db-2/192.168.48.3:9042]  Error while opening new channel (ConnectionInitException: [s0|connecting...] Protocol initialization request, step 1 (STARTUP {CQL_VERSION=3.0.0, DRIVER_NAME=DataStax Java driver for Apache Cassandra(R), DRIVER_VERSION=4.13.0, CLIENT_ID=432a753b-a5fd-4d90-b6a7-2bd1c023c699, APPLICATION_NAME=Spark-Cassandra-Connector-local-1713230546687}): failed to send request (java.nio.channels.NotYetConnectedException))\n"
     ]
    }
   ],
   "source": [
    "#q9\n",
    "response = stub.StationMax(station_pb2.StationMaxRequest(station=\"USW00014837\"))\n",
    "response.error\n"
   ]
  },
  {
   "cell_type": "code",
   "execution_count": 20,
   "id": "7a52cd74-7876-46e3-9d89-ffe8fdfd2179",
   "metadata": {},
   "outputs": [
    {
     "data": {
      "text/plain": [
       "''"
      ]
     },
     "execution_count": 20,
     "metadata": {},
     "output_type": "execute_result"
    }
   ],
   "source": [
    "#q10\n",
    "station_id = \"USW00014837\"\n",
    "date = \"2023-04-15\"\n",
    "tmin = 1919810\n",
    "tmax = 114514\n",
    "request = station_pb2.RecordTempsRequest(\n",
    "    station=station_id,\n",
    "    date=date,\n",
    "    tmin=tmin,\n",
    "    tmax=tmax\n",
    ")\n",
    "response = stub.RecordTemps(request)\n",
    "error_message = response.error\n",
    "\n",
    "error_message"
   ]
  },
  {
   "cell_type": "code",
   "execution_count": null,
   "id": "8b9bfbf1-6ecf-47fe-a91f-4567d8390966",
   "metadata": {},
   "outputs": [],
   "source": []
  },
  {
   "cell_type": "code",
   "execution_count": null,
   "id": "854ad99a-201e-42eb-bf87-89212ae3caf9",
   "metadata": {},
   "outputs": [],
   "source": []
  },
  {
   "cell_type": "code",
   "execution_count": null,
   "id": "20747563-763d-423d-8f6e-5e93edc07e5a",
   "metadata": {},
   "outputs": [],
   "source": []
  },
  {
   "cell_type": "code",
   "execution_count": null,
   "id": "97b1aa9b-f2fb-4eb3-9aeb-7917eaff43cf",
   "metadata": {},
   "outputs": [],
   "source": []
  },
  {
   "cell_type": "code",
   "execution_count": null,
   "id": "949b7fab-f9ff-4620-a1dd-dcaa25a185b0",
   "metadata": {},
   "outputs": [],
   "source": []
  },
  {
   "cell_type": "code",
   "execution_count": null,
   "id": "b799cd24-03c3-480e-a478-79813988edac",
   "metadata": {},
   "outputs": [],
   "source": []
  },
  {
   "cell_type": "code",
   "execution_count": null,
   "id": "a4997177-b9c6-437f-b06e-fd4364d0106e",
   "metadata": {},
   "outputs": [],
   "source": []
  }
 ],
 "metadata": {
  "kernelspec": {
   "display_name": "Python 3 (ipykernel)",
   "language": "python",
   "name": "python3"
  },
  "language_info": {
   "codemirror_mode": {
    "name": "ipython",
    "version": 3
   },
   "file_extension": ".py",
   "mimetype": "text/x-python",
   "name": "python",
   "nbconvert_exporter": "python",
   "pygments_lexer": "ipython3",
   "version": "3.10.12"
  }
 },
 "nbformat": 4,
 "nbformat_minor": 5
}
