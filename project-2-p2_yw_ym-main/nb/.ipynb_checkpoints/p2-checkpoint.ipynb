{
 "cells": [
  {
   "cell_type": "code",
   "execution_count": 1,
   "id": "3c16651b-f421-4911-99f7-4e7c2cdb8770",
   "metadata": {},
   "outputs": [],
   "source": [
    "import pandas as pd\n",
    "import torch\n",
    "import sys\n",
    "import matplotlib.pyplot as plt\n"
   ]
  },
  {
   "cell_type": "code",
   "execution_count": 2,
   "id": "c048d3db-a3ed-4ba2-9bd4-32d563208d69",
   "metadata": {},
   "outputs": [],
   "source": [
    "train_df = pd.read_csv('train.csv')\n",
    "test_df = pd.read_csv('test.csv')\n",
    "\n",
    "train_np = train_df.values\n",
    "test_np = test_df.values\n",
    "\n",
    "trainX = train_np[:, :-1]  \n",
    "trainY = train_np[:, -1]   \n",
    "testX = test_np[:, :-1]   \n",
    "testY = test_np[:, -1]\n",
    "\n",
    "trainX = torch.tensor(trainX, dtype=torch.float64)\n",
    "trainY = torch.tensor(trainY, dtype=torch.float64).view(-1, 1)\n",
    "testX = torch.tensor(testX, dtype=torch.float64)\n",
    "testY = torch.tensor(testY, dtype=torch.float64).view(-1, 1)\n"
   ]
  },
  {
   "cell_type": "code",
   "execution_count": 3,
   "id": "b1a7eea8-1556-4e6d-97cd-3d9631743fee",
   "metadata": {},
   "outputs": [
    {
     "data": {
      "text/plain": [
       "83520"
      ]
     },
     "execution_count": 3,
     "metadata": {},
     "output_type": "execute_result"
    }
   ],
   "source": [
    "#q1\n",
    "trainX.nelement() * trainX.element_size() \n"
   ]
  },
  {
   "cell_type": "code",
   "execution_count": 4,
   "id": "adb51883-c5ca-4c79-b8f8-949d011442b3",
   "metadata": {},
   "outputs": [
    {
     "data": {
      "text/plain": [
       "tensor([[ 24.,  51.,  44.,  ...,  61.,  27.,   0.],\n",
       "        [ 22.,  31., 214.,  ...,   9.,   0.,   0.],\n",
       "        [ 84., 126., 239.,  ...,  74.,  24.,   8.],\n",
       "        ...,\n",
       "        [268., 358., 277.,  ..., 107.,  47.,   7.],\n",
       "        [ 81., 116.,  90.,  ...,  36.,   9.,   0.],\n",
       "        [118., 156., 197.,  ...,  19.,   0.,   0.]], dtype=torch.float64)"
      ]
     },
     "execution_count": 4,
     "metadata": {},
     "output_type": "execute_result"
    }
   ],
   "source": [
    "trainX"
   ]
  },
  {
   "cell_type": "code",
   "execution_count": 5,
   "id": "93a848b9-a324-4a5c-ad81-fd403e5332d2",
   "metadata": {},
   "outputs": [
    {
     "data": {
      "text/plain": [
       "0.0"
      ]
     },
     "execution_count": 5,
     "metadata": {},
     "output_type": "execute_result"
    }
   ],
   "source": [
    "#q2\n",
    "trainX_new = trainX.to(dtype=torch.float16)\n",
    "trainX_new_64 = trainX_new.to(dtype=torch.float64)\n",
    "diff= torch.abs(trainX - trainX_new_64)\n",
    "max_diff = torch.max(diff).item()\n",
    "max_diff"
   ]
  },
  {
   "cell_type": "code",
   "execution_count": 6,
   "id": "28e56f2f-0a1d-48c7-8ed2-ce2c4fc39e81",
   "metadata": {},
   "outputs": [
    {
     "data": {
      "text/plain": [
       "False"
      ]
     },
     "execution_count": 6,
     "metadata": {},
     "output_type": "execute_result"
    }
   ],
   "source": [
    "#q3\n",
    "torch.cuda.is_available() and torch.gpu.is_available()"
   ]
  },
  {
   "cell_type": "code",
   "execution_count": 7,
   "id": "df4c067b-027b-40f1-b3b7-b5107ce7dd6b",
   "metadata": {},
   "outputs": [
    {
     "data": {
      "text/plain": [
       "tensor([[0.0040],\n",
       "        [0.0040],\n",
       "        [0.0040],\n",
       "        [0.0040],\n",
       "        [0.0040],\n",
       "        [0.0040],\n",
       "        [0.0300],\n",
       "        [0.0300],\n",
       "        [0.0300],\n",
       "        [0.0300]], dtype=torch.float64)"
      ]
     },
     "execution_count": 7,
     "metadata": {},
     "output_type": "execute_result"
    }
   ],
   "source": [
    "coef = torch.tensor([\n",
    "        [0.0040],\n",
    "        [0.0040],\n",
    "        [0.0040],\n",
    "        [0.0040],\n",
    "        [0.0040],\n",
    "        [0.0040], # POS_50_59_CP\n",
    "        [0.0300], # POS_60_69_CP\n",
    "        [0.0300],\n",
    "        [0.0300],\n",
    "        [0.0300]\n",
    "], dtype=trainX.dtype)\n",
    "coef"
   ]
  },
  {
   "cell_type": "code",
   "execution_count": 8,
   "id": "72e2fe05-f333-45f7-972f-ec4a7c9df7fc",
   "metadata": {},
   "outputs": [
    {
     "data": {
      "text/plain": [
       "9.844"
      ]
     },
     "execution_count": 8,
     "metadata": {},
     "output_type": "execute_result"
    }
   ],
   "source": [
    "#q4\n",
    "rs = testX[0]@coef\n",
    "rs.item()"
   ]
  },
  {
   "cell_type": "code",
   "execution_count": 9,
   "id": "06f21dc1-e4aa-406c-a67c-464a907d4825",
   "metadata": {},
   "outputs": [
    {
     "data": {
      "text/plain": [
       "12.073632183908048"
      ]
     },
     "execution_count": 9,
     "metadata": {},
     "output_type": "execute_result"
    }
   ],
   "source": [
    "#q5\n",
    "rs_all = testX@coef\n",
    "rs_all.mean().item()"
   ]
  },
  {
   "cell_type": "code",
   "execution_count": 10,
   "id": "f7cc6c06-da84-4c9c-9dde-3837635a2228",
   "metadata": {},
   "outputs": [
    {
     "data": {
      "text/plain": [
       "19.0"
      ]
     },
     "execution_count": 10,
     "metadata": {},
     "output_type": "execute_result"
    }
   ],
   "source": [
    "#q6\n",
    "x = torch.tensor(0.0)\n",
    "\n",
    "y = x**2 - 8*x + 19\n",
    "\n",
    "y.item()\n"
   ]
  },
  {
   "cell_type": "code",
   "execution_count": 11,
   "id": "a70bb20c-6aa4-48af-8858-f9f57dd1c980",
   "metadata": {},
   "outputs": [
    {
     "data": {
      "text/plain": [
       "3.9999940395355225"
      ]
     },
     "execution_count": 11,
     "metadata": {},
     "output_type": "execute_result"
    }
   ],
   "source": [
    "#q7\n",
    "x = torch.tensor(0.0, requires_grad=True)\n",
    "\n",
    "optimizer = torch.optim.SGD([x], lr=0.01)   # minimizes by default\n",
    "\n",
    "for epoch in range(1000):\n",
    "    y = x**2 - 8*x + 19\n",
    "    y.backward()\n",
    "    optimizer.step()\n",
    "    optimizer.zero_grad()\n",
    "x.item()"
   ]
  },
  {
   "cell_type": "code",
   "execution_count": 12,
   "id": "a9a9916c-8090-46e7-9edf-c29bc865975e",
   "metadata": {},
   "outputs": [
    {
     "data": {
      "text/plain": [
       "197.8007662835249"
      ]
     },
     "execution_count": 12,
     "metadata": {},
     "output_type": "execute_result"
    }
   ],
   "source": [
    "#q8\n",
    "coef = torch.zeros(trainX.shape[1], 1, dtype = trainX.dtype)\n",
    "coef_prediction = trainX @ coef\n",
    "MSE = sum((coef_prediction - trainY)**2)/trainY.shape[0]\n",
    "MSE.item()"
   ]
  },
  {
   "cell_type": "code",
   "execution_count": 13,
   "id": "0383d4db-fcd7-4fe8-835a-1121c9fb06a6",
   "metadata": {},
   "outputs": [
    {
     "data": {
      "text/plain": [
       "26.8113940147193"
      ]
     },
     "execution_count": 13,
     "metadata": {},
     "output_type": "execute_result"
    }
   ],
   "source": [
    "#q9\n",
    "torch.manual_seed(544)\n",
    "ds = torch.utils.data.TensorDataset(trainX, trainY)\n",
    "dl = torch.utils.data.DataLoader(ds, batch_size=50, shuffle=True)\n",
    "\n",
    "loss_fn = torch.nn.MSELoss()\n",
    "coef = torch.zeros((trainX.shape[1], 1), dtype=trainX.dtype, requires_grad=True)\n",
    "optimizer = torch.optim.SGD([coef], lr=0.000002)\n",
    "\n",
    "for epoch in range(500):\n",
    "    for batchX, batchY in dl:\n",
    "        predictions = batchX @ coef\n",
    "        loss = loss_fn(predictions, batchY)\n",
    "        loss.backward()   # computes gradient, and adds it to coef.grad\n",
    "        optimizer.step()\n",
    "        optimizer.zero_grad()\n",
    "\n",
    "    X, Y = trainX[:], trainY[:]\n",
    "loss_fn(X @ coef, Y).item()"
   ]
  },
  {
   "cell_type": "code",
   "execution_count": 14,
   "id": "b89cb921-d3f4-4ca3-8298-ddee35d940f3",
   "metadata": {},
   "outputs": [
    {
     "data": {
      "text/plain": [
       "29.05854692548551"
      ]
     },
     "execution_count": 14,
     "metadata": {},
     "output_type": "execute_result"
    }
   ],
   "source": [
    "#q10\n",
    "torch.manual_seed(544)\n",
    "ds = torch.utils.data.TensorDataset(trainX, trainY)\n",
    "dl = torch.utils.data.DataLoader(ds, batch_size=50, shuffle=True)\n",
    "\n",
    "loss_fn = torch.nn.MSELoss()\n",
    "coef = torch.zeros((testX.shape[1], 1), dtype=testX.dtype, requires_grad=True)\n",
    "optimizer = torch.optim.SGD([coef], lr=0.000002)\n",
    "\n",
    "for epoch in range(500):\n",
    "    for batchX, batchY in dl:\n",
    "        predictions = batchX @ coef\n",
    "        loss = loss_fn(predictions, batchY)\n",
    "        loss.backward()   # computes gradient, and adds it to coef.grad\n",
    "        optimizer.step()\n",
    "        optimizer.zero_grad()\n",
    "\n",
    "    X, Y = testX[:], testY[:]\n",
    "loss_fn(X @ coef, Y).item()"
   ]
  },
  {
   "cell_type": "code",
   "execution_count": null,
   "id": "d1468aff-8ec3-47af-a6db-5d52be34e607",
   "metadata": {},
   "outputs": [],
   "source": []
  }
 ],
 "metadata": {
  "kernelspec": {
   "display_name": "Python 3 (ipykernel)",
   "language": "python",
   "name": "python3"
  },
  "language_info": {
   "codemirror_mode": {
    "name": "ipython",
    "version": 3
   },
   "file_extension": ".py",
   "mimetype": "text/x-python",
   "name": "python",
   "nbconvert_exporter": "python",
   "pygments_lexer": "ipython3",
   "version": "3.11.6"
  }
 },
 "nbformat": 4,
 "nbformat_minor": 5
}
