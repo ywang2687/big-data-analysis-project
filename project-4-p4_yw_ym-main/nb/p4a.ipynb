{
 "cells": [
  {
   "cell_type": "code",
   "execution_count": 1,
   "id": "4e75f8fa-9af4-42d3-81f3-f9d7252a7472",
   "metadata": {},
   "outputs": [],
   "source": [
    "import requests\n",
    "import pyarrow as pa\n",
    "import pyarrow.fs\n",
    "import io\n"
   ]
  },
  {
   "cell_type": "code",
   "execution_count": 2,
   "id": "1deb4d42-24a1-4967-b567-49e92a471f10",
   "metadata": {},
   "outputs": [
    {
     "name": "stdout",
     "output_type": "stream",
     "text": [
      "Configured Capacity: 51642105856 (48.10 GB)\n",
      "Present Capacity: 16293470208 (15.17 GB)\n",
      "DFS Remaining: 16293421056 (15.17 GB)\n",
      "DFS Used: 49152 (48 KB)\n",
      "DFS Used%: 0.00%\n",
      "Replicated Blocks:\n",
      "\tUnder replicated blocks: 0\n",
      "\tBlocks with corrupt replicas: 0\n",
      "\tMissing blocks: 0\n",
      "\tMissing blocks (with replication factor 1): 0\n",
      "\tLow redundancy blocks with highest priority to recover: 0\n",
      "\tPending deletion blocks: 0\n",
      "Erasure Coded Block Groups: \n",
      "\tLow redundancy block groups: 0\n",
      "\tBlock groups with corrupt internal blocks: 0\n",
      "\tMissing block groups: 0\n",
      "\tLow redundancy blocks with highest priority to recover: 0\n",
      "\tPending deletion blocks: 0\n",
      "\n",
      "-------------------------------------------------\n",
      "Live datanodes (2):\n",
      "\n",
      "Name: 172.18.0.4:9866 (project-4-p4_yw_ym-dn-1.project-4-p4_yw_ym_default)\n",
      "Hostname: 595de693472a\n",
      "Decommission Status : Normal\n",
      "Configured Capacity: 25821052928 (24.05 GB)\n",
      "DFS Used: 24576 (24 KB)\n",
      "Non DFS Used: 17657540608 (16.44 GB)\n",
      "DFS Remaining: 8146710528 (7.59 GB)\n",
      "DFS Used%: 0.00%\n",
      "DFS Remaining%: 31.55%\n",
      "Configured Cache Capacity: 0 (0 B)\n",
      "Cache Used: 0 (0 B)\n",
      "Cache Remaining: 0 (0 B)\n",
      "Cache Used%: 100.00%\n",
      "Cache Remaining%: 0.00%\n",
      "Xceivers: 0\n",
      "Last contact: Thu Mar 14 23:09:14 GMT 2024\n",
      "Last Block Report: Thu Mar 14 23:07:59 GMT 2024\n",
      "Num of Blocks: 0\n",
      "\n",
      "\n",
      "Name: 172.18.0.5:9866 (project-4-p4_yw_ym-dn-2.project-4-p4_yw_ym_default)\n",
      "Hostname: 43dc2ad30e77\n",
      "Decommission Status : Normal\n",
      "Configured Capacity: 25821052928 (24.05 GB)\n",
      "DFS Used: 24576 (24 KB)\n",
      "Non DFS Used: 17657540608 (16.44 GB)\n",
      "DFS Remaining: 8146710528 (7.59 GB)\n",
      "DFS Used%: 0.00%\n",
      "DFS Remaining%: 31.55%\n",
      "Configured Cache Capacity: 0 (0 B)\n",
      "Cache Used: 0 (0 B)\n",
      "Cache Remaining: 0 (0 B)\n",
      "Cache Used%: 100.00%\n",
      "Cache Remaining%: 0.00%\n",
      "Xceivers: 0\n",
      "Last contact: Thu Mar 14 23:09:13 GMT 2024\n",
      "Last Block Report: Thu Mar 14 23:07:59 GMT 2024\n",
      "Num of Blocks: 0\n",
      "\n",
      "\n"
     ]
    }
   ],
   "source": [
    "#q1\n",
    "!hdfs dfsadmin -fs hdfs://boss:9000 -report"
   ]
  },
  {
   "cell_type": "code",
   "execution_count": 3,
   "id": "5c3ba224-7327-46e1-b25d-3cdaa5765202",
   "metadata": {},
   "outputs": [
    {
     "name": "stdout",
     "output_type": "stream",
     "text": [
      "--2024-03-14 23:09:16--  https://pages.cs.wisc.edu/~harter/cs544/data/hdma-wi-2021.csv\n",
      "Resolving pages.cs.wisc.edu (pages.cs.wisc.edu)... 128.105.7.9\n",
      "Connecting to pages.cs.wisc.edu (pages.cs.wisc.edu)|128.105.7.9|:443... connected.\n",
      "HTTP request sent, awaiting response... 200 OK\n",
      "Length: 174944099 (167M) [text/csv]\n",
      "Saving to: ‘hdma-wi-2021.csv.13’\n",
      "\n",
      "hdma-wi-2021.csv.13 100%[===================>] 166.84M   123MB/s    in 1.4s    \n",
      "\n",
      "2024-03-14 23:09:17 (123 MB/s) - ‘hdma-wi-2021.csv.13’ saved [174944099/174944099]\n",
      "\n"
     ]
    }
   ],
   "source": [
    "!wget https://pages.cs.wisc.edu/~harter/cs544/data/hdma-wi-2021.csv"
   ]
  },
  {
   "cell_type": "code",
   "execution_count": 4,
   "id": "05ff3258-adb2-4951-9655-0dfff997462b",
   "metadata": {},
   "outputs": [],
   "source": [
    "!hdfs dfs -D dfs.block.size=1048576 -D dfs.replication=1 -cp hdma-wi-2021.csv hdfs://boss:9000/single.csv\n",
    "!hdfs dfs -D dfs.block.size=1048576 -D dfs.replication=2 -cp hdma-wi-2021.csv hdfs://boss:9000/double.csv"
   ]
  },
  {
   "cell_type": "code",
   "execution_count": 5,
   "id": "dc1e89c3-b338-498d-9742-055b841e998d",
   "metadata": {},
   "outputs": [
    {
     "name": "stdout",
     "output_type": "stream",
     "text": [
      "166.8 M  166.8 M  hdfs://boss:9000/single.csv\n",
      "166.8 M  333.7 M  hdfs://boss:9000/double.csv\n"
     ]
    }
   ],
   "source": [
    "#q2\n",
    "!hdfs dfs -du -h hdfs://boss:9000/single.csv\n",
    "!hdfs dfs -du -h hdfs://boss:9000/double.csv"
   ]
  },
  {
   "cell_type": "code",
   "execution_count": 6,
   "id": "a06eae99-c786-4ae1-a3c2-df9f30389849",
   "metadata": {},
   "outputs": [
    {
     "name": "stdout",
     "output_type": "stream",
     "text": [
      "HTTP/1.1 200 OK\n",
      "\u001b[1mDate\u001b[0m: Thu, 14 Mar 2024 23:09:53 GMT\n",
      "\u001b[1mCache-Control\u001b[0m: no-cache\n",
      "\u001b[1mExpires\u001b[0m: Thu, 14 Mar 2024 23:09:53 GMT\n",
      "\u001b[1mDate\u001b[0m: Thu, 14 Mar 2024 23:09:53 GMT\n",
      "\u001b[1mPragma\u001b[0m: no-cache\n",
      "\u001b[1mX-Content-Type-Options\u001b[0m: nosniff\n",
      "\u001b[1mX-FRAME-OPTIONS\u001b[0m: SAMEORIGIN\n",
      "\u001b[1mX-XSS-Protection\u001b[0m: 1; mode=block\n",
      "\u001b[1mContent-Type\u001b[0m: application/json\n",
      "\u001b[1mTransfer-Encoding\u001b[0m: chunked\n",
      "\n",
      "{\"FileStatus\":{\"accessTime\":1710457763738,\"blockSize\":1048576,\"childrenNum\":0,\"fileId\":16386,\"group\":\"supergroup\",\"length\":174944099,\"modificationTime\":1710457772795,\"owner\":\"root\",\"pathSuffix\":\"\",\"permission\":\"644\",\"replication\":1,\"storagePolicy\":0,\"type\":\"FILE\"}}"
     ]
    }
   ],
   "source": [
    "#q3\n",
    "!curl -i \"http://boss:9870/webhdfs/v1/single.csv?op=GETFILESTATUS\""
   ]
  },
  {
   "cell_type": "code",
   "execution_count": 7,
   "id": "a7f38776-e993-4fc2-9ec2-cb220886c349",
   "metadata": {},
   "outputs": [
    {
     "name": "stdout",
     "output_type": "stream",
     "text": [
      "HTTP/1.1 200 OK\n",
      "\u001b[1mDate\u001b[0m: Thu, 14 Mar 2024 23:09:53 GMT\n",
      "\u001b[1mCache-Control\u001b[0m: no-cache\n",
      "\u001b[1mExpires\u001b[0m: Thu, 14 Mar 2024 23:09:53 GMT\n",
      "\u001b[1mDate\u001b[0m: Thu, 14 Mar 2024 23:09:53 GMT\n",
      "\u001b[1mPragma\u001b[0m: no-cache\n",
      "\u001b[1mX-Content-Type-Options\u001b[0m: nosniff\n",
      "\u001b[1mX-FRAME-OPTIONS\u001b[0m: SAMEORIGIN\n",
      "\u001b[1mX-XSS-Protection\u001b[0m: 1; mode=block\n",
      "\u001b[1mContent-Type\u001b[0m: application/json\n",
      "\u001b[1mTransfer-Encoding\u001b[0m: chunked\n",
      "\n",
      "{\"Location\":\"http://43dc2ad30e77:9864/webhdfs/v1/single.csv?op=OPEN&namenoderpcaddress=boss:9000&offset=0\"}"
     ]
    }
   ],
   "source": [
    "#q4\n",
    "!curl -i -L \"http://boss:9870/webhdfs/v1/single.csv?op=OPEN&offset=0&noredirect=true\""
   ]
  },
  {
   "cell_type": "code",
   "execution_count": 8,
   "id": "22ad554a-4143-44be-9887-084361ecbeab",
   "metadata": {},
   "outputs": [
    {
     "name": "stdout",
     "output_type": "stream",
     "text": [
      "{'43dc2ad30e77': 76, '595de693472a': 91}\n"
     ]
    }
   ],
   "source": [
    "#q5\n",
    "url = \"http://boss:9870/webhdfs/v1/single.csv?op=GET_BLOCK_LOCATIONS&length=\"\n",
    "response = requests.get(url)\n",
    "data = response.json()\n",
    "\n",
    "block_distribution = {}\n",
    "for block in data['LocatedBlocks']['locatedBlocks']:\n",
    "    for location in block['locations']:\n",
    "        #print(location)\n",
    "        datanode_id = location['hostName']  \n",
    "        #print(datanode_id)\n",
    "        block_distribution[datanode_id] = block_distribution.get(datanode_id, 0) + 1\n",
    "\n",
    "print(block_distribution)"
   ]
  },
  {
   "cell_type": "code",
   "execution_count": 9,
   "id": "5b7bb8ef-8014-4493-8c45-3ecedfce4fed",
   "metadata": {},
   "outputs": [
    {
     "name": "stderr",
     "output_type": "stream",
     "text": [
      "2024-03-14 23:09:55,243 WARN util.NativeCodeLoader: Unable to load native-hadoop library for your platform... using builtin-java classes where applicable\n"
     ]
    },
    {
     "data": {
      "text/plain": [
       "b'activity_y'"
      ]
     },
     "execution_count": 9,
     "metadata": {},
     "output_type": "execute_result"
    }
   ],
   "source": [
    "#q6\n",
    "hdfs = pa.fs.HadoopFileSystem(\"boss\", 9000)\n",
    "file_path = '/single.csv'  \n",
    "f = hdfs.open_input_file(file_path)\n",
    "f.read_at(10, 0)\n"
   ]
  },
  {
   "cell_type": "code",
   "execution_count": 10,
   "id": "2fff3175-3a2a-4b12-9bd9-701c9032f23e",
   "metadata": {},
   "outputs": [
    {
     "data": {
      "text/plain": [
       "444874"
      ]
     },
     "execution_count": 10,
     "metadata": {},
     "output_type": "execute_result"
    }
   ],
   "source": [
    "#q7\n",
    "with hdfs.open_input_file(file_path) as file_obj:\n",
    "    reader = io.TextIOWrapper(io.BufferedReader(file_obj))\n",
    "    #print(reader)\n",
    "    count = 0\n",
    "    for i in reader:\n",
    "        if \"Single Family\" in i:\n",
    "            count +=1\n",
    "count\n"
   ]
  },
  {
   "cell_type": "code",
   "execution_count": null,
   "id": "e59777a6-748a-4697-b566-7a5c422f4949",
   "metadata": {},
   "outputs": [],
   "source": []
  },
  {
   "cell_type": "code",
   "execution_count": null,
   "id": "ae3213b0-25cf-4741-8a5b-a992f18334f3",
   "metadata": {},
   "outputs": [],
   "source": []
  }
 ],
 "metadata": {
  "kernelspec": {
   "display_name": "Python 3 (ipykernel)",
   "language": "python",
   "name": "python3"
  },
  "language_info": {
   "codemirror_mode": {
    "name": "ipython",
    "version": 3
   },
   "file_extension": ".py",
   "mimetype": "text/x-python",
   "name": "python",
   "nbconvert_exporter": "python",
   "pygments_lexer": "ipython3",
   "version": "3.10.12"
  }
 },
 "nbformat": 4,
 "nbformat_minor": 5
}
