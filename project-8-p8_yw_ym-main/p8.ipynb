{
 "cells": [
  {
   "cell_type": "code",
   "execution_count": 1,
   "id": "d349c3dc-c04d-4115-8570-a083a47f2815",
   "metadata": {},
   "outputs": [],
   "source": [
    "from google.cloud import bigquery\n",
    "bq = bigquery.Client()"
   ]
  },
  {
   "cell_type": "code",
   "execution_count": 2,
   "id": "926371ab-62f7-445c-9381-daabd2095733",
   "metadata": {},
   "outputs": [
    {
     "data": {
      "text/html": [
       "<div>\n",
       "<style scoped>\n",
       "    .dataframe tbody tr th:only-of-type {\n",
       "        vertical-align: middle;\n",
       "    }\n",
       "\n",
       "    .dataframe tbody tr th {\n",
       "        vertical-align: top;\n",
       "    }\n",
       "\n",
       "    .dataframe thead th {\n",
       "        text-align: right;\n",
       "    }\n",
       "</style>\n",
       "<table border=\"1\" class=\"dataframe\">\n",
       "  <thead>\n",
       "    <tr style=\"text-align: right;\">\n",
       "      <th></th>\n",
       "      <th>num_rows</th>\n",
       "    </tr>\n",
       "  </thead>\n",
       "  <tbody>\n",
       "    <tr>\n",
       "      <th>0</th>\n",
       "      <td>3233</td>\n",
       "    </tr>\n",
       "  </tbody>\n",
       "</table>\n",
       "</div>"
      ],
      "text/plain": [
       "   num_rows\n",
       "0      3233"
      ]
     },
     "execution_count": 2,
     "metadata": {},
     "output_type": "execute_result"
    }
   ],
   "source": [
    "q = bq.query(\n",
    "\"\"\"\n",
    "select count(*) as num_rows \n",
    "from bigquery-public-data.geo_us_boundaries.counties\n",
    "\"\"\")\n",
    "q.to_dataframe()"
   ]
  },
  {
   "cell_type": "code",
   "execution_count": 3,
   "id": "e4922769-9026-4961-ad3c-0530c435f407",
   "metadata": {},
   "outputs": [
    {
     "data": {
      "text/plain": [
       "3.314489915768649"
      ]
     },
     "execution_count": 3,
     "metadata": {},
     "output_type": "execute_result"
    }
   ],
   "source": [
    "#q1\n",
    "q1 = bq.query(\n",
    "\"\"\"\n",
    "select (area_water_meters/(area_land_meters+area_water_meters))*100 as percentage_covered_by_water\n",
    "from bigquery-public-data.geo_us_boundaries.counties\n",
    "where county_name = 'Dane'\n",
    "\"\"\")\n",
    "result = q1.to_dataframe()\n",
    "result['percentage_covered_by_water'][0]"
   ]
  },
  {
   "cell_type": "code",
   "execution_count": 4,
   "id": "4295a4a3-df60-4afd-beb6-c2494af6d58e",
   "metadata": {},
   "outputs": [
    {
     "data": {
      "text/plain": [
       "{'TX': 254, 'GA': 159, 'VA': 133, 'KY': 120, 'MO': 115}"
      ]
     },
     "execution_count": 4,
     "metadata": {},
     "output_type": "execute_result"
    }
   ],
   "source": [
    "#q2\n",
    "q2 = bq.query(\n",
    "\"\"\"\n",
    "select s.state, count(c.state_fips_code) as num_counties\n",
    "from bigquery-public-data.geo_us_boundaries.counties c\n",
    "inner join bigquery-public-data.geo_us_boundaries.states s on c.state_fips_code = s.state_fips_code\n",
    "group by s.state\n",
    "order by num_counties DESC\n",
    "limit 5\n",
    "\"\"\")\n",
    "q2.to_dataframe().set_index('state')['num_counties'].to_dict()"
   ]
  },
  {
   "cell_type": "code",
   "execution_count": 5,
   "id": "4a5acd8c-5e86-48f2-9711-c2abd791e6ae",
   "metadata": {},
   "outputs": [],
   "source": [
    "no_cache = bigquery.QueryJobConfig(use_query_cache=False)\n",
    "q1_cost = bq.query(\n",
    "\"\"\"\n",
    "select (area_water_meters/area_land_meters)*100 as percentage_covered_by_water\n",
    "from bigquery-public-data.geo_us_boundaries.counties\n",
    "where county_name = 'Dane'\n",
    "\"\"\", job_config=no_cache)\n",
    "q2_cost = bq.query(\n",
    "\"\"\"\n",
    "select s.state, count(c.state_fips_code) as num_counties\n",
    "from bigquery-public-data.geo_us_boundaries.counties c\n",
    "inner join bigquery-public-data.geo_us_boundaries.states s on c.state_fips_code = s.state_fips_code\n",
    "group by s.state\n",
    "order by num_counties DESC\n",
    "limit 5\n",
    "\"\"\", job_config=no_cache)"
   ]
  },
  {
   "cell_type": "code",
   "execution_count": 6,
   "id": "2f6f07fc-9bb4-4896-8faa-7ede78cb3041",
   "metadata": {},
   "outputs": [
    {
     "data": {
      "text/plain": [
       "{'q1': 5.9604644775390625e-05, 'q2': 0.00011920928955078125}"
      ]
     },
     "execution_count": 6,
     "metadata": {},
     "output_type": "execute_result"
    }
   ],
   "source": [
    "#q3\n",
    "tokyo_cost = 6.25 # per TB\n",
    "q1_cost_q = q1_cost.total_bytes_billed / 1024**4 * tokyo_cost\n",
    "q2_cost_q = q2_cost.total_bytes_billed / 1024**4 * tokyo_cost\n",
    "{'q1': q1_cost_q, 'q2': q2_cost_q}"
   ]
  },
  {
   "cell_type": "code",
   "execution_count": 7,
   "id": "147c2b17-3c11-4069-a0c0-377ed392f6c7",
   "metadata": {},
   "outputs": [
    {
     "data": {
      "text/plain": [
       "LoadJob<project=united-park-412420, location=US, id=2f85fdcf-5860-49a8-975f-7c22c7395fc2>"
      ]
     },
     "execution_count": 7,
     "metadata": {},
     "output_type": "execute_result"
    }
   ],
   "source": [
    "source = \"gs://cs544ymp8bucket/hdma-wi-2021-split.parquet\"\n",
    "project = \"united-park-412420\" \n",
    "dataset = \"p8\"\n",
    "ds = bigquery.Dataset(f\"{project}.{dataset}\")\n",
    "bq.create_dataset(ds, exists_ok=True)\n",
    "job_config = bigquery.LoadJobConfig(source_format=\"PARQUET\", write_disposition=\"WRITE_TRUNCATE\")\n",
    "job = bq.load_table_from_uri(source, f\"{project}.{dataset}.hdma\", job_config=job_config)\n",
    "job.result()"
   ]
  },
  {
   "cell_type": "code",
   "execution_count": 8,
   "id": "81201dd0-83c9-48de-9a42-fe1e8132dca9",
   "metadata": {},
   "outputs": [
    {
     "data": {
      "text/plain": [
       "['p8']"
      ]
     },
     "execution_count": 8,
     "metadata": {},
     "output_type": "execute_result"
    }
   ],
   "source": [
    "#q4\n",
    "[ds.dataset_id for ds in bq.list_datasets(\"united-park-412420\")]"
   ]
  },
  {
   "cell_type": "code",
   "execution_count": 9,
   "id": "f42d4816-582b-42e2-8c58-a7af62ca94e8",
   "metadata": {},
   "outputs": [
    {
     "data": {
      "text/plain": [
       "{'Milwaukee': 46570,\n",
       " 'Dane': 38557,\n",
       " 'Waukesha': 34159,\n",
       " 'Brown': 15615,\n",
       " 'Racine': 13007,\n",
       " 'Outagamie': 11523,\n",
       " 'Kenosha': 10744,\n",
       " 'Washington': 10726,\n",
       " 'Rock': 9834,\n",
       " 'Winnebago': 9310}"
      ]
     },
     "execution_count": 9,
     "metadata": {},
     "output_type": "execute_result"
    }
   ],
   "source": [
    "#q5\n",
    "q5 = bq.query(\n",
    "\"\"\"\n",
    "select c.county_name, count(h.county_code) as loan_count\n",
    "from p8.hdma h\n",
    "join bigquery-public-data.geo_us_boundaries.counties c on h.county_code = c.county_fips_code\n",
    "group by c.county_name\n",
    "order by loan_count DESC\n",
    "limit 10;\n",
    "\"\"\")\n",
    "q5.to_dataframe().set_index('county_name')['loan_count'].to_dict()"
   ]
  },
  {
   "cell_type": "code",
   "execution_count": 10,
   "id": "a6919ef9-ce00-4cda-be3d-65f663940cac",
   "metadata": {},
   "outputs": [
    {
     "data": {
      "text/plain": [
       "Table(TableReference(DatasetReference('united-park-412420', 'p8'), 'applications'))"
      ]
     },
     "execution_count": 10,
     "metadata": {},
     "output_type": "execute_result"
    }
   ],
   "source": [
    "url = \"https://docs.google.com/spreadsheets/d/1FfalqAWdzz01D1zIvBxsDWLW05-lvANWjjAj2vI4A04/\"\n",
    "\n",
    "external_config = bigquery.ExternalConfig(\"GOOGLE_SHEETS\")\n",
    "external_config.source_uris = [url]\n",
    "external_config.options.skip_leading_rows = 1\n",
    "external_config.autodetect = True\n",
    "\n",
    "table = bigquery.Table(\"united-park-412420.p8.applications\")\n",
    "table.external_data_configuration = external_config\n",
    "\n",
    "table = bq.create_table(table, exists_ok=True)\n",
    "table"
   ]
  },
  {
   "cell_type": "code",
   "execution_count": 11,
   "id": "fac399c5-470a-4c7b-8687-6e8a5512a4ed",
   "metadata": {},
   "outputs": [
    {
     "data": {
      "text/plain": [
       "9"
      ]
     },
     "execution_count": 11,
     "metadata": {},
     "output_type": "execute_result"
    }
   ],
   "source": [
    "#q6\n",
    "q6 = bq.query(\"\"\"\n",
    "SELECT COUNT(*) as application_count\n",
    "FROM united-park-412420.p8.applications\n",
    "WHERE income = 200000\n",
    "\"\"\")\n",
    "application_count = q6.to_dataframe().iloc[0]['application_count']\n",
    "application_count"
   ]
  },
  {
   "cell_type": "code",
   "execution_count": 12,
   "id": "2b767bd4-aa52-4329-913e-67304ccfb6f0",
   "metadata": {},
   "outputs": [
    {
     "data": {
      "text/plain": [
       "{'Dane': 16,\n",
       " 'Door': 6,\n",
       " 'Milwaukee': 3,\n",
       " 'Marinette': 3,\n",
       " 'Walworth': 5,\n",
       " 'Fond du Lac': 1,\n",
       " 'Outagamie': 1,\n",
       " 'Sauk': 1,\n",
       " 'Oneida': 3,\n",
       " 'Douglas': 1,\n",
       " 'Columbia': 1,\n",
       " 'Green Lake': 1,\n",
       " 'Jefferson': 2,\n",
       " 'Brown': 2,\n",
       " 'Kewaunee': 1,\n",
       " 'Monroe': 2,\n",
       " 'Florence': 1,\n",
       " 'Bayfield': 1,\n",
       " 'Barron': 1,\n",
       " 'Juneau': 1,\n",
       " 'Sheboygan': 1,\n",
       " 'Winnebago': 1}"
      ]
     },
     "execution_count": 12,
     "metadata": {},
     "output_type": "execute_result"
    }
   ],
   "source": [
    "#q7\n",
    "q7 = bq.query(\"\"\"\n",
    "SELECT c.county_name, COUNT(*) as application_count\n",
    "FROM united-park-412420.p8.applications as apps\n",
    "JOIN `bigquery-public-data.geo_us_boundaries.counties` as c\n",
    "ON ST_WITHIN(ST_GEOGPOINT(apps.longitude, apps.latitude), c.county_geom)\n",
    "WHERE c.state_fips_code = '55'\n",
    "GROUP BY c.county_name\n",
    "\"\"\")\n",
    "q7.to_dataframe().set_index('county_name')['application_count'].to_dict()"
   ]
  },
  {
   "cell_type": "code",
   "execution_count": 13,
   "id": "1d5fb3c9-f4ba-4390-8c24-fc4695af27fa",
   "metadata": {},
   "outputs": [],
   "source": [
    "%load_ext google.cloud.bigquery"
   ]
  },
  {
   "cell_type": "code",
   "execution_count": 14,
   "id": "a1129b44-e028-4b8e-841a-573b7e154b68",
   "metadata": {},
   "outputs": [
    {
     "data": {
      "application/vnd.jupyter.widget-view+json": {
       "model_id": "c1da0a94f1d3426c9fd3a0e8f7cc971b",
       "version_major": 2,
       "version_minor": 0
      },
      "text/plain": [
       "Query is running:   0%|          |"
      ]
     },
     "metadata": {},
     "output_type": "display_data"
    },
    {
     "data": {
      "text/html": [
       "<div>\n",
       "<style scoped>\n",
       "    .dataframe tbody tr th:only-of-type {\n",
       "        vertical-align: middle;\n",
       "    }\n",
       "\n",
       "    .dataframe tbody tr th {\n",
       "        vertical-align: top;\n",
       "    }\n",
       "\n",
       "    .dataframe thead th {\n",
       "        text-align: right;\n",
       "    }\n",
       "</style>\n",
       "<table border=\"1\" class=\"dataframe\">\n",
       "  <thead>\n",
       "    <tr style=\"text-align: right;\">\n",
       "      <th></th>\n",
       "    </tr>\n",
       "  </thead>\n",
       "  <tbody>\n",
       "  </tbody>\n",
       "</table>\n",
       "</div>"
      ],
      "text/plain": [
       "Empty DataFrame\n",
       "Columns: []\n",
       "Index: []"
      ]
     },
     "execution_count": 14,
     "metadata": {},
     "output_type": "execute_result"
    }
   ],
   "source": [
    "%%bigquery\n",
    "CREATE OR REPLACE MODEL `united-park-412420.p8.model`\n",
    "OPTIONS(model_type=\"LINEAR_REG\", input_label_cols=[\"loan_amount\"]) \n",
    "\n",
    "AS\n",
    "\n",
    "SELECT income, loan_term, loan_amount\n",
    "FROM\n",
    "  p8.hdma\n",
    "WHERE\n",
    "  dataset = 'train'\n"
   ]
  },
  {
   "cell_type": "code",
   "execution_count": 31,
   "id": "fa8aa32b-4b78-4a70-97a2-36aed62be41e",
   "metadata": {},
   "outputs": [
    {
     "data": {
      "text/plain": [
       "77294.68408464122"
      ]
     },
     "execution_count": 31,
     "metadata": {},
     "output_type": "execute_result"
    }
   ],
   "source": [
    "#q8\n",
    "\n",
    "q = bq.query(\n",
    "\"\"\"\n",
    "SELECT mean_absolute_error\n",
    "FROM ML.EVALUATE(MODEL p8.model, (\n",
    "  SELECT income, loan_term, loan_amount\n",
    "  FROM `p8.hdma`\n",
    "  WHERE dataset = 'test'\n",
    "))\n",
    "\"\"\")\n",
    "result = q.to_dataframe().iloc[0]['mean_absolute_error']\n",
    "result"
   ]
  },
  {
   "cell_type": "code",
   "execution_count": 33,
   "id": "996e3f39-7506-408a-a24c-9dabc978df18",
   "metadata": {},
   "outputs": [
    {
     "data": {
      "text/plain": [
       "381.8080365877182"
      ]
     },
     "execution_count": 33,
     "metadata": {},
     "output_type": "execute_result"
    }
   ],
   "source": [
    "#q9\n",
    "q = bq.query(\n",
    "\"\"\"\n",
    "select weight \n",
    "from \n",
    "  ML.WEIGHTS(MODEL `p8.model`)\n",
    "where\n",
    "  processed_input = 'loan_term'\n",
    "\"\"\")\n",
    "q.to_dataframe().iloc[0]['weight']"
   ]
  },
  {
   "cell_type": "code",
   "execution_count": 49,
   "id": "2e3e8cb4-86ac-4c72-a06e-91401895ef6d",
   "metadata": {},
   "outputs": [
    {
     "data": {
      "text/plain": [
       "0.6204781463640954"
      ]
     },
     "execution_count": 49,
     "metadata": {},
     "output_type": "execute_result"
    }
   ],
   "source": [
    "#q10\n",
    "q = bq.query(\n",
    "\"\"\"\n",
    "WITH predictions AS (\n",
    "  SELECT\n",
    "    income,\n",
    "    predicted_loan_amount\n",
    "  FROM\n",
    "    ML.PREDICT(MODEL p8.model, (\n",
    "      SELECT\n",
    "        income,\n",
    "        360 as loan_term\n",
    "      FROM\n",
    "        p8.hdma\n",
    "    ))\n",
    ")\n",
    "SELECT\n",
    "  SUM(CASE WHEN a.loan_amount > predictions.predicted_loan_amount THEN 1 ELSE 0 END) / COUNT(a.loan_amount) AS ratio_above_prediction\n",
    "FROM\n",
    "  predictions\n",
    "JOIN p8.applications a ON a.income = predictions.income\n",
    "\"\"\")\n",
    "q.to_dataframe().iloc[0]['ratio_above_prediction']"
   ]
  }
 ],
 "metadata": {
  "kernelspec": {
   "display_name": "Python 3 (ipykernel)",
   "language": "python",
   "name": "python3"
  },
  "language_info": {
   "codemirror_mode": {
    "name": "ipython",
    "version": 3
   },
   "file_extension": ".py",
   "mimetype": "text/x-python",
   "name": "python",
   "nbconvert_exporter": "python",
   "pygments_lexer": "ipython3",
   "version": "3.10.12"
  }
 },
 "nbformat": 4,
 "nbformat_minor": 5
}
