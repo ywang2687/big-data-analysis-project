{
 "cells": [
  {
   "cell_type": "code",
   "execution_count": 1,
   "id": "c67e2ef0-3fb2-4bf3-b60c-766d897d0393",
   "metadata": {},
   "outputs": [
    {
     "name": "stdout",
     "output_type": "stream",
     "text": [
      "Configured Capacity: 25821052928 (24.05 GB)\n",
      "Present Capacity: 11137617920 (10.37 GB)\n",
      "DFS Remaining: 10939142144 (10.19 GB)\n",
      "DFS Used: 198475776 (189.28 MB)\n",
      "DFS Used%: 1.78%\n",
      "Replicated Blocks:\n",
      "\tUnder replicated blocks: 17\n",
      "\tBlocks with corrupt replicas: 0\n",
      "\tMissing blocks: 0\n",
      "\tMissing blocks (with replication factor 1): 0\n",
      "\tLow redundancy blocks with highest priority to recover: 17\n",
      "\tPending deletion blocks: 0\n",
      "Erasure Coded Block Groups: \n",
      "\tLow redundancy block groups: 0\n",
      "\tBlock groups with corrupt internal blocks: 0\n",
      "\tMissing block groups: 0\n",
      "\tLow redundancy blocks with highest priority to recover: 0\n",
      "\tPending deletion blocks: 0\n",
      "\n",
      "-------------------------------------------------\n",
      "Live datanodes (1):\n",
      "\n",
      "Name: 172.24.0.5:9866 (project-5-p5_yw_ym-dn-1.project-5-p5_yw_ym_default)\n",
      "Hostname: 8579c9528396\n",
      "Decommission Status : Normal\n",
      "Configured Capacity: 25821052928 (24.05 GB)\n",
      "DFS Used: 198475776 (189.28 MB)\n",
      "Non DFS Used: 14666657792 (13.66 GB)\n",
      "DFS Remaining: 10939142144 (10.19 GB)\n",
      "DFS Used%: 0.77%\n",
      "DFS Remaining%: 42.37%\n",
      "Configured Cache Capacity: 0 (0 B)\n",
      "Cache Used: 0 (0 B)\n",
      "Cache Remaining: 0 (0 B)\n",
      "Cache Used%: 100.00%\n",
      "Cache Remaining%: 0.00%\n",
      "Xceivers: 0\n",
      "Last contact: Thu Apr 04 21:00:36 GMT 2024\n",
      "Last Block Report: Thu Apr 04 16:22:40 GMT 2024\n",
      "Num of Blocks: 39\n",
      "\n",
      "\n"
     ]
    }
   ],
   "source": [
    "!hdfs dfsadmin -fs hdfs://nn:9000/ -report"
   ]
  },
  {
   "cell_type": "code",
   "execution_count": 2,
   "id": "0bfba1b7-448a-4b9d-8463-d9e02309d4d1",
   "metadata": {},
   "outputs": [],
   "source": [
    "!hdfs dfs -D dfs.replication=1 -cp -f data/*.csv hdfs://nn:9000/\n"
   ]
  },
  {
   "cell_type": "code",
   "execution_count": 3,
   "id": "efb710ca-9480-4a79-8e09-c5bd709f2f77",
   "metadata": {},
   "outputs": [
    {
     "name": "stderr",
     "output_type": "stream",
     "text": [
      "Setting default log level to \"WARN\".\n",
      "To adjust logging level use sc.setLogLevel(newLevel). For SparkR, use setLogLevel(newLevel).\n",
      "24/04/04 21:00:54 WARN NativeCodeLoader: Unable to load native-hadoop library for your platform... using builtin-java classes where applicable\n"
     ]
    }
   ],
   "source": [
    "from pyspark.sql import SparkSession\n",
    "\n",
    "spark = (SparkSession.builder.appName(\"cs544\")\n",
    "         .master(\"spark://boss:7077\")\n",
    "         .config(\"spark.executor.memory\", \"512M\")\n",
    "         .config(\"spark.sql.warehouse.dir\", \"hdfs://nn:9000/user/hive/warehouse\")\n",
    "         .enableHiveSupport()\n",
    "         .getOrCreate())\n",
    "\n"
   ]
  },
  {
   "cell_type": "code",
   "execution_count": 4,
   "id": "4f92da40-2829-49d6-91de-ac7cfdeb12f2",
   "metadata": {},
   "outputs": [
    {
     "name": "stderr",
     "output_type": "stream",
     "text": [
      "24/04/04 21:01:33 WARN HiveConf: HiveConf of name hive.stats.jdbc.timeout does not exist\n",
      "24/04/04 21:01:33 WARN HiveConf: HiveConf of name hive.stats.retries.wait does not exist\n",
      "24/04/04 21:01:39 WARN ObjectStore: Version information not found in metastore. hive.metastore.schema.verification is not enabled so recording the schema version 2.3.0\n",
      "24/04/04 21:01:39 WARN ObjectStore: setMetaStoreSchemaVersion called but recording version is disabled: version = 2.3.0, comment = Set by MetaStore UNKNOWN@172.24.0.4\n",
      "24/04/04 21:01:40 WARN ObjectStore: Failed to get database global_temp, returning NoSuchObjectException\n",
      "24/04/04 21:01:46 WARN SessionState: METASTORE_FILTER_HOOK will be ignored, since hive.security.authorization.manager is set to instance of HiveAuthorizerFactory.\n",
      "24/04/04 21:01:46 WARN HiveConf: HiveConf of name hive.internal.ss.authz.settings.applied.marker does not exist\n",
      "24/04/04 21:01:46 WARN HiveConf: HiveConf of name hive.stats.jdbc.timeout does not exist\n",
      "24/04/04 21:01:46 WARN HiveConf: HiveConf of name hive.stats.retries.wait does not exist\n",
      "                                                                                \r"
     ]
    },
    {
     "data": {
      "text/plain": [
       "106"
      ]
     },
     "execution_count": 4,
     "metadata": {},
     "output_type": "execute_result"
    }
   ],
   "source": [
    "#q1\n",
    "banks_df = spark.read.option(\"header\", \"true\").option(\"inferSchema\", \"true\") \\\n",
    "              .csv(\"hdfs://nn:9000/arid2017_to_lei_xref_csv.csv\")\n",
    "banks_df.write.mode(\"overwrite\").saveAsTable(\"banks\")\n",
    "banks_df.rdd.filter(\n",
    "    lambda row: \"The\" in row['respondent_name'] and \"National\" in row['respondent_name']\n",
    ").count()"
   ]
  },
  {
   "cell_type": "code",
   "execution_count": 5,
   "id": "fd6d894f-2ff7-4b05-8d1e-0198b33e3ae3",
   "metadata": {},
   "outputs": [
    {
     "name": "stderr",
     "output_type": "stream",
     "text": [
      "                                                                                \r"
     ]
    },
    {
     "data": {
      "text/plain": [
       "106"
      ]
     },
     "execution_count": 5,
     "metadata": {},
     "output_type": "execute_result"
    }
   ],
   "source": [
    "#q2\n",
    "banks_df.filter(\n",
    "    banks_df['respondent_name'].contains(\"The\") & banks_df['respondent_name'].contains(\"National\")\n",
    ").count()"
   ]
  },
  {
   "cell_type": "code",
   "execution_count": 6,
   "id": "9f670cae-8ae3-4351-bc8c-711ee37ea8c0",
   "metadata": {},
   "outputs": [
    {
     "name": "stderr",
     "output_type": "stream",
     "text": [
      "                                                                                \r"
     ]
    },
    {
     "data": {
      "text/plain": [
       "106"
      ]
     },
     "execution_count": 6,
     "metadata": {},
     "output_type": "execute_result"
    }
   ],
   "source": [
    "#q3\n",
    "#banks_df.createOrReplaceTempView(\"banks\")\n",
    "\n",
    "df3 = spark.sql(\"\"\"\n",
    "SELECT COUNT(*) as count\n",
    "FROM banks\n",
    "WHERE respondent_name LIKE '%The%' AND respondent_name LIKE '%National%'\n",
    "\"\"\").toPandas().head()\n",
    "df3.iloc[0]['count']"
   ]
  },
  {
   "cell_type": "code",
   "execution_count": 7,
   "id": "833a027b-bf81-43ab-b255-121798d7747b",
   "metadata": {},
   "outputs": [
    {
     "name": "stderr",
     "output_type": "stream",
     "text": [
      "24/04/04 21:02:15 WARN SparkStringUtils: Truncated the string representation of a plan since it was too large. This behavior can be adjusted by setting 'spark.sql.debug.maxToStringFields'.\n",
      "                                                                                \r"
     ]
    }
   ],
   "source": [
    "loans_df = (spark.read.option(\"header\", \"true\")\n",
    "            .option(\"inferSchema\", \"true\")\n",
    "            .csv(\"hdfs://nn:9000/hdma-wi-2021.csv\"))\n",
    "loans_df.write.bucketBy(8, \"county_code\").mode(\"overwrite\").saveAsTable(\"loans\")"
   ]
  },
  {
   "cell_type": "code",
   "execution_count": 8,
   "id": "907b9d85-d0b1-4d81-ac77-30a1957cd6f4",
   "metadata": {},
   "outputs": [
    {
     "name": "stderr",
     "output_type": "stream",
     "text": [
      "                                                                                \r"
     ]
    }
   ],
   "source": [
    "views = [\"ethnicity\", \"race\", \"sex\", \"states\", \"counties\", \"tracts\", \"action_taken\",\n",
    " \"denial_reason\", \"loan_type\", \"loan_purpose\", \"preapproval\", \"property_type\"]\n",
    "\n",
    "for view_name in views:\n",
    "    df = (spark.read\n",
    "          .option(\"header\", \"true\")\n",
    "          .option(\"inferSchema\", \"true\")\n",
    "          .csv(f\"hdfs://nn:9000/{view_name}.csv\")\n",
    "          .createOrReplaceTempView(view_name))"
   ]
  },
  {
   "cell_type": "code",
   "execution_count": 9,
   "id": "4883079f-5211-4a51-9ba5-d70faaf7cfe3",
   "metadata": {},
   "outputs": [
    {
     "data": {
      "text/plain": [
       "{'banks': False,\n",
       " 'loans': False,\n",
       " 'action_taken': True,\n",
       " 'counties': True,\n",
       " 'denial_reason': True,\n",
       " 'ethnicity': True,\n",
       " 'loan_purpose': True,\n",
       " 'loan_type': True,\n",
       " 'preapproval': True,\n",
       " 'property_type': True,\n",
       " 'race': True,\n",
       " 'sex': True,\n",
       " 'states': True,\n",
       " 'tracts': True}"
      ]
     },
     "execution_count": 9,
     "metadata": {},
     "output_type": "execute_result"
    }
   ],
   "source": [
    "#q4\n",
    "name = spark.sql(\"SHOW TABLES\").collect()\n",
    "name_table = {row.tableName: row.isTemporary for row in name}\n",
    "name_table"
   ]
  },
  {
   "cell_type": "code",
   "execution_count": 10,
   "id": "181951a5-c803-4431-9aa0-d22e4e6ba0f8",
   "metadata": {},
   "outputs": [
    {
     "name": "stderr",
     "output_type": "stream",
     "text": [
      "                                                                                \r"
     ]
    },
    {
     "data": {
      "text/plain": [
       "6"
      ]
     },
     "execution_count": 10,
     "metadata": {},
     "output_type": "execute_result"
    }
   ],
   "source": [
    "#q5\n",
    "result = spark.sql(\"\"\"\n",
    "    SELECT COUNT(*) AS application_count\n",
    "    FROM banks\n",
    "    INNER JOIN loans ON banks.lei_2020 = loans.lei\n",
    "    WHERE banks.respondent_name = 'First National Bank'\n",
    "\"\"\").toPandas()\n",
    "result['application_count'][0]"
   ]
  },
  {
   "cell_type": "code",
   "execution_count": 11,
   "id": "441c196e-7526-43ab-9d50-222601edf9e7",
   "metadata": {},
   "outputs": [
    {
     "name": "stdout",
     "output_type": "stream",
     "text": [
      "== Physical Plan ==\n",
      "AdaptiveSparkPlan (12)\n",
      "+- HashAggregate (11)\n",
      "   +- Exchange (10)\n",
      "      +- HashAggregate (9)\n",
      "         +- Project (8)\n",
      "            +- BroadcastHashJoin Inner BuildLeft (7)\n",
      "               :- BroadcastExchange (4)\n",
      "               :  +- Project (3)\n",
      "               :     +- Filter (2)\n",
      "               :        +- Scan parquet spark_catalog.default.banks (1)\n",
      "               +- Filter (6)\n",
      "                  +- Scan parquet spark_catalog.default.loans (5)\n",
      "\n",
      "\n",
      "(1) Scan parquet spark_catalog.default.banks\n",
      "Output [2]: [respondent_name#66, lei_2020#70]\n",
      "Batched: true\n",
      "Location: InMemoryFileIndex [hdfs://nn:9000/user/hive/warehouse/banks]\n",
      "PushedFilters: [IsNotNull(respondent_name), EqualTo(respondent_name,First National Bank), IsNotNull(lei_2020)]\n",
      "ReadSchema: struct<respondent_name:string,lei_2020:string>\n",
      "\n",
      "(2) Filter\n",
      "Input [2]: [respondent_name#66, lei_2020#70]\n",
      "Condition : ((isnotnull(respondent_name#66) AND (respondent_name#66 = First National Bank)) AND isnotnull(lei_2020#70))\n",
      "\n",
      "(3) Project\n",
      "Output [1]: [lei_2020#70]\n",
      "Input [2]: [respondent_name#66, lei_2020#70]\n",
      "\n",
      "(4) BroadcastExchange\n",
      "Input [1]: [lei_2020#70]\n",
      "Arguments: HashedRelationBroadcastMode(List(input[0, string, true]),false), [plan_id=623]\n",
      "\n",
      "(5) Scan parquet spark_catalog.default.loans\n",
      "Output [1]: [lei#989]\n",
      "Batched: true\n",
      "Bucketed: false (bucket column(s) not read)\n",
      "Location: InMemoryFileIndex [hdfs://nn:9000/user/hive/warehouse/loans]\n",
      "PushedFilters: [IsNotNull(lei)]\n",
      "ReadSchema: struct<lei:string>\n",
      "\n",
      "(6) Filter\n",
      "Input [1]: [lei#989]\n",
      "Condition : isnotnull(lei#989)\n",
      "\n",
      "(7) BroadcastHashJoin\n",
      "Left keys [1]: [lei_2020#70]\n",
      "Right keys [1]: [lei#989]\n",
      "Join type: Inner\n",
      "Join condition: None\n",
      "\n",
      "(8) Project\n",
      "Output: []\n",
      "Input [2]: [lei_2020#70, lei#989]\n",
      "\n",
      "(9) HashAggregate\n",
      "Input: []\n",
      "Keys: []\n",
      "Functions [1]: [partial_count(1)]\n",
      "Aggregate Attributes [1]: [count#1094L]\n",
      "Results [1]: [count#1095L]\n",
      "\n",
      "(10) Exchange\n",
      "Input [1]: [count#1095L]\n",
      "Arguments: SinglePartition, ENSURE_REQUIREMENTS, [plan_id=628]\n",
      "\n",
      "(11) HashAggregate\n",
      "Input [1]: [count#1095L]\n",
      "Keys: []\n",
      "Functions [1]: [count(1)]\n",
      "Aggregate Attributes [1]: [count(1)#1092L]\n",
      "Results [1]: [count(1)#1092L AS application_count#1091L]\n",
      "\n",
      "(12) AdaptiveSparkPlan\n",
      "Output [1]: [application_count#1091L]\n",
      "Arguments: isFinalPlan=false\n",
      "\n",
      "\n"
     ]
    }
   ],
   "source": [
    "#q6\n",
    "spark.sql(\"\"\"\n",
    "    SELECT COUNT(*) AS application_count\n",
    "    FROM banks\n",
    "    INNER JOIN loans ON banks.lei_2020 = loans.lei\n",
    "    WHERE banks.respondent_name = 'First National Bank'\n",
    "\"\"\").explain(\"formatted\")\n",
    "#  1. the 'banks' table, because bank table is a small table, and spark optimizes joining operation by sending small table\n",
    "# to all executors.\n",
    "#  2. Yes, it does. The first time occurs in step 9 after Project(step 8).\n",
    "#     The second time occurs in step 11 after Exchange(step 10). Because we use count for aggregation function, it should have \n",
    "#     HashAggregate. "
   ]
  },
  {
   "cell_type": "code",
   "execution_count": 12,
   "id": "4b6d9aa3-a29f-4e5a-9b17-8fdafc644417",
   "metadata": {},
   "outputs": [
    {
     "name": "stderr",
     "output_type": "stream",
     "text": [
      "                                                                                \r"
     ]
    },
    {
     "data": {
      "text/plain": [
       "{'Sawyer': 38,\n",
       " 'Door': 174,\n",
       " 'Forest': 7,\n",
       " 'Ozaukee': 389,\n",
       " 'Bayfield': 33,\n",
       " 'Waukesha': 1832,\n",
       " 'Vilas': 68,\n",
       " 'Dane': 729,\n",
       " 'Oneida': 70,\n",
       " 'Florence': 8}"
      ]
     },
     "execution_count": 12,
     "metadata": {},
     "output_type": "execute_result"
    }
   ],
   "source": [
    "#q7\n",
    "avg_loan = spark.sql(\"\"\"\n",
    "    SELECT \n",
    "        l.county_code, \n",
    "        AVG(l.loan_amount) AS average_loan_amount\n",
    "    FROM loans l\n",
    "    INNER JOIN banks b \n",
    "    ON l.lei = b.lei_2020\n",
    "    WHERE UPPER(TRIM(b.respondent_name)) LIKE '%WELLS FARGO%'\n",
    "    GROUP BY l.county_code\n",
    "    ORDER BY average_loan_amount DESC\n",
    "    LIMIT 10\n",
    "\"\"\")\n",
    "avg_loan.createOrReplaceTempView(\"top_wells_fargo_counties\")\n",
    "\n",
    "avg_loan_df = avg_loan.toPandas()\n",
    "\n",
    "counts_df = spark.sql(\"\"\"\n",
    "    SELECT c.name AS county_name, \n",
    "        COUNT(*) AS application_count\n",
    "    FROM  loans l\n",
    "    INNER JOIN  banks b \n",
    "    ON l.lei = b.lei_2020\n",
    "    INNER JOIN  top_wells_fargo_counties twfc \n",
    "    ON  l.county_code = twfc.county_code\n",
    "    INNER JOIN counties c \n",
    "    ON l.county_code = c.STATE*1000 + c.COUNTY\n",
    "    WHERE UPPER(TRIM(b.respondent_name)) LIKE '%WELLS FARGO%'\n",
    "    GROUP BY twfc.county_code, c.name, twfc.average_loan_amount\n",
    "    ORDER BY twfc.average_loan_amount DESC\n",
    "\"\"\")\n",
    "\n",
    "counts_df_pd = counts_df.toPandas()\n",
    "df_dict = counts_df_pd.set_index('county_name')['application_count'].to_dict()\n",
    "df_dict"
   ]
  },
  {
   "cell_type": "code",
   "execution_count": 13,
   "id": "aecb53d2-daeb-4efe-9bd8-35d48adeb4c8",
   "metadata": {},
   "outputs": [
    {
     "data": {
      "text/plain": [
       "Text(0, 0.5, 'application_count')"
      ]
     },
     "execution_count": 13,
     "metadata": {},
     "output_type": "execute_result"
    },
    {
     "data": {
      "image/png": "[encoded data removed]",
      "text/plain": [
       "<Figure size 640x480 with 1 Axes>"
      ]
     },
     "metadata": {},
     "output_type": "display_data"
    }
   ],
   "source": [
    "import matplotlib.pyplot as plt\n",
    "counts_df_pd.set_index('county_name').plot.bar().set_ylabel('application_count')"
   ]
  },
  {
   "cell_type": "code",
   "execution_count": 14,
   "id": "2378ac31-e518-4ba5-9f4e-2aa960b95d6b",
   "metadata": {},
   "outputs": [
    {
     "name": "stdout",
     "output_type": "stream",
     "text": [
      "== Physical Plan ==\n",
      "AdaptiveSparkPlan isFinalPlan=false\n",
      "+- HashAggregate(keys=[county_code#992], functions=[mean(loan_amount#1009)])\n",
      "   +- HashAggregate(keys=[county_code#992], functions=[partial_mean(loan_amount#1009)])\n",
      "      +- FileScan parquet spark_catalog.default.loans[county_code#992,loan_amount#1009] Batched: true, Bucketed: true, DataFilters: [], Format: Parquet, Location: InMemoryFileIndex(1 paths)[hdfs://nn:9000/user/hive/warehouse/loans], PartitionFilters: [], PushedFilters: [], ReadSchema: struct<county_code:string,loan_amount:double>, SelectedBucketsCount: 8 out of 8\n",
      "\n",
      "\n",
      "== Physical Plan ==\n",
      "AdaptiveSparkPlan isFinalPlan=false\n",
      "+- HashAggregate(keys=[lei#989], functions=[mean(loan_amount#1009)])\n",
      "   +- Exchange hashpartitioning(lei#989, 200), ENSURE_REQUIREMENTS, [plan_id=1412]\n",
      "      +- HashAggregate(keys=[lei#989], functions=[partial_mean(loan_amount#1009)])\n",
      "         +- FileScan parquet spark_catalog.default.loans[lei#989,loan_amount#1009] Batched: true, Bucketed: false (bucket column(s) not read), DataFilters: [], Format: Parquet, Location: InMemoryFileIndex(1 paths)[hdfs://nn:9000/user/hive/warehouse/loans], PartitionFilters: [], PushedFilters: [], ReadSchema: struct<lei:string,loan_amount:double>\n",
      "\n",
      "\n"
     ]
    }
   ],
   "source": [
    "#q8\n",
    "county_group_query = spark.sql(\"SELECT county_code, MEAN(loan_amount) FROM loans GROUP BY county_code\")\n",
    "county_group_query.explain()\n",
    "\n",
    "lei_group_query = spark.sql(\"SELECT lei, MEAN(loan_amount) FROM loans GROUP BY lei\")\n",
    "lei_group_query.explain()\n",
    "#  Because we already bucket the data by county_code, we don't need IO operation. \n",
    "#  We require network I/O when computing the mean grouping by lei because the data is not partitioned or bucketed by lei,\n",
    "# we need IO operation to transform data.\n"
   ]
  },
  {
   "cell_type": "code",
   "execution_count": 15,
   "id": "2e53cc0b-e1dd-4ce2-8e7c-2c5d07a1a540",
   "metadata": {},
   "outputs": [
    {
     "name": "stdout",
     "output_type": "stream",
     "text": [
      "+-----------+------+-------------+--------+\n",
      "|loan_amount|income|interest_rate|approval|\n",
      "+-----------+------+-------------+--------+\n",
      "|   255000.0| 210.0|          0.0|       1|\n",
      "|   435000.0|   0.0|        3.125|       0|\n",
      "|   435000.0| 190.0|          0.0|       1|\n",
      "|   165000.0|   0.0|         3.25|       0|\n",
      "|   205000.0|   0.0|          0.0|       1|\n",
      "|   305000.0|   0.0|          3.5|       0|\n",
      "|   195000.0|  43.0|         2.75|       1|\n",
      "|   185000.0|   0.0|          3.5|       0|\n",
      "|   265000.0|  93.0|         2.75|       1|\n",
      "|   185000.0|   0.0|         3.25|       0|\n",
      "|   475000.0|   0.0|        1.999|       1|\n",
      "|   235000.0|   0.0|         3.25|       0|\n",
      "|   425000.0|   0.0|          2.0|       1|\n",
      "|   235000.0|   0.0|         3.25|       0|\n",
      "|   185000.0|   0.0|         2.25|       1|\n",
      "|   385000.0|   0.0|          3.0|       0|\n",
      "|   365000.0| 321.0|        2.625|       1|\n",
      "|   155000.0|   0.0|          2.5|       0|\n",
      "|   245000.0|   0.0|         3.75|       1|\n",
      "|   315000.0|   0.0|          3.0|       0|\n",
      "+-----------+------+-------------+--------+\n",
      "only showing top 20 rows\n",
      "\n"
     ]
    }
   ],
   "source": [
    "from pyspark.sql.functions import col, when\n",
    "df = spark.table(\"loans\").withColumn(\"approval\", when(col(\"action_taken\") == 1, 1).otherwise(0))\n",
    "df = df.select(\n",
    "    col(\"loan_amount\").cast(\"double\"),\n",
    "    col(\"income\").cast(\"double\"),\n",
    "    col(\"interest_rate\").cast(\"double\"),\n",
    "    \"approval\"\n",
    ")\n",
    "df = df.na.fill(0.0, subset=[\"loan_amount\", \"income\", \"interest_rate\", \"approval\"])\n",
    "df.show()"
   ]
  },
  {
   "cell_type": "code",
   "execution_count": 16,
   "id": "9fa8838d-c4f5-4da0-b0b1-d40f4c541184",
   "metadata": {
    "scrolled": true
   },
   "outputs": [
    {
     "name": "stderr",
     "output_type": "stream",
     "text": [
      "                                                                                \r"
     ]
    },
    {
     "data": {
      "text/plain": [
       "242868"
      ]
     },
     "execution_count": 16,
     "metadata": {},
     "output_type": "execute_result"
    }
   ],
   "source": [
    "#q9\n",
    "train, test = df.randomSplit([0.8, 0.2], seed=41)\n",
    "train.cache()\n",
    "count = train.where(col(\"approval\") == 1).count()\n",
    "count"
   ]
  },
  {
   "cell_type": "code",
   "execution_count": 17,
   "id": "076f587a-a1e4-4aea-ad40-1f3ae13955d4",
   "metadata": {},
   "outputs": [
    {
     "name": "stderr",
     "output_type": "stream",
     "text": [
      "                                                                                \r"
     ]
    },
    {
     "name": "stdout",
     "output_type": "stream",
     "text": [
      "+-----------+------+-------------+--------+----------------+\n",
      "|loan_amount|income|interest_rate|approval|        features|\n",
      "+-----------+------+-------------+--------+----------------+\n",
      "|     5000.0|   0.0|          0.0|       0|[5000.0,0.0,0.0]|\n",
      "|     5000.0|   0.0|          0.0|       0|[5000.0,0.0,0.0]|\n",
      "|     5000.0|   0.0|          0.0|       0|[5000.0,0.0,0.0]|\n",
      "|     5000.0|   0.0|          0.0|       0|[5000.0,0.0,0.0]|\n",
      "|     5000.0|   0.0|          0.0|       0|[5000.0,0.0,0.0]|\n",
      "|     5000.0|   0.0|          0.0|       0|[5000.0,0.0,0.0]|\n",
      "|     5000.0|   0.0|          0.0|       0|[5000.0,0.0,0.0]|\n",
      "|     5000.0|   0.0|          0.0|       0|[5000.0,0.0,0.0]|\n",
      "|     5000.0|   0.0|          0.0|       0|[5000.0,0.0,0.0]|\n",
      "|     5000.0|   0.0|          0.0|       0|[5000.0,0.0,0.0]|\n",
      "|     5000.0|   0.0|          0.0|       0|[5000.0,0.0,0.0]|\n",
      "|     5000.0|   0.0|          0.0|       0|[5000.0,0.0,0.0]|\n",
      "|     5000.0|   0.0|          0.0|       0|[5000.0,0.0,0.0]|\n",
      "|     5000.0|   0.0|          0.0|       0|[5000.0,0.0,0.0]|\n",
      "|     5000.0|   0.0|          0.0|       0|[5000.0,0.0,0.0]|\n",
      "|     5000.0|   0.0|          0.0|       0|[5000.0,0.0,0.0]|\n",
      "|     5000.0|   0.0|          0.0|       0|[5000.0,0.0,0.0]|\n",
      "|     5000.0|   0.0|          0.0|       0|[5000.0,0.0,0.0]|\n",
      "|     5000.0|   0.0|          0.0|       0|[5000.0,0.0,0.0]|\n",
      "|     5000.0|   0.0|          0.0|       0|[5000.0,0.0,0.0]|\n",
      "+-----------+------+-------------+--------+----------------+\n",
      "only showing top 20 rows\n",
      "\n"
     ]
    }
   ],
   "source": [
    "from pyspark.ml.feature import VectorAssembler\n",
    "from pyspark.ml.classification import RandomForestClassifier\n",
    "va = VectorAssembler(inputCols=[\"loan_amount\", \"income\", \"interest_rate\"], outputCol=\"features\")\n",
    "transformed_train = va.transform(train)\n",
    "transformed_test= va.transform(test)\n",
    "\n",
    "transformed_train.show()"
   ]
  },
  {
   "cell_type": "code",
   "execution_count": 18,
   "id": "1d74cdcf-1eb9-412f-a86b-76da3b42eb27",
   "metadata": {},
   "outputs": [
    {
     "name": "stderr",
     "output_type": "stream",
     "text": [
      "                                                                                \r"
     ]
    },
    {
     "data": {
      "text/plain": [
       "0.8937543828404145"
      ]
     },
     "execution_count": 18,
     "metadata": {},
     "output_type": "execute_result"
    }
   ],
   "source": [
    "#q10\n",
    "from pyspark.ml.evaluation import MulticlassClassificationEvaluator\n",
    "\n",
    "rf = RandomForestClassifier(labelCol=\"approval\", featuresCol=\"features\", numTrees=10)\n",
    "model = rf.fit(transformed_train)\n",
    "\n",
    "predictions = model.transform(transformed_test)\n",
    "\n",
    "evaluator = MulticlassClassificationEvaluator(\n",
    "    labelCol=\"approval\", predictionCol=\"prediction\", metricName=\"accuracy\"\n",
    ")\n",
    "accuracy = evaluator.evaluate(predictions)\n",
    "accuracy"
   ]
  },
  {
   "cell_type": "code",
   "execution_count": null,
   "id": "e7c09c85-cea1-4115-bb81-1d02a211fc33",
   "metadata": {},
   "outputs": [],
   "source": []
  }
 ],
 "metadata": {
  "kernelspec": {
   "display_name": "Python 3 (ipykernel)",
   "language": "python",
   "name": "python3"
  },
  "language_info": {
   "codemirror_mode": {
    "name": "ipython",
    "version": 3
   },
   "file_extension": ".py",
   "mimetype": "text/x-python",
   "name": "python",
   "nbconvert_exporter": "python",
   "pygments_lexer": "ipython3",
   "version": "3.10.12"
  }
 },
 "nbformat": 4,
 "nbformat_minor": 5
}
